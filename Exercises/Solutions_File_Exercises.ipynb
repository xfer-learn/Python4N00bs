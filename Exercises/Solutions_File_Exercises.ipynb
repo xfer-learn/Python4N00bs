{
 "cells": [
  {
   "cell_type": "markdown",
   "metadata": {},
   "source": [
    "# Solutions to file exercises"
   ]
  },
  {
   "cell_type": "markdown",
   "metadata": {},
   "source": [
    "## Read a file into memory\n",
    "\n",
    "**Hint:** If you are working on Colab, look up how to upload a file onto your virtual machine. Make sure it is in the same location as your notebook."
   ]
  },
  {
   "cell_type": "code",
   "execution_count": null,
   "metadata": {},
   "outputs": [],
   "source": [
    "with open(\"python.txt\", \"r+\") as fhandle:\n",
    "  lines = fhandle.readlines()"
   ]
  },
  {
   "cell_type": "markdown",
   "metadata": {},
   "source": [
    "## Processing the file\n",
    "* Clean up whitespaces and newlines\n",
    "* Convert all text to lowercase\n",
    "* Remove punctuation characters"
   ]
  },
  {
   "cell_type": "code",
   "execution_count": null,
   "metadata": {},
   "outputs": [],
   "source": [
    "import string\n",
    "\n",
    "# Remove whitespace and newlines\n",
    "lines = [x.rstrip() for x in lines if x != '\\n']\n",
    "\n",
    "# Convert all text to lowercase\n",
    "lines = [x.lower() for x in lines]\n",
    "\n",
    "# Remove punctuation characters\n",
    "lines = [x.translate(str.maketrans('','',string.punctuation)) for x in lines]"
   ]
  },
  {
   "cell_type": "markdown",
   "metadata": {},
   "source": [
    "## Extracting heading lines from the text\n",
    "\n",
    "**Hint:** We can see that the lines that are headings of paragraphs have 4 words or less in them. We can use this as acondition to extract only these lines."
   ]
  },
  {
   "cell_type": "code",
   "execution_count": null,
   "metadata": {},
   "outputs": [],
   "source": [
    "headings = [x for x in lines if len(x.split(' ')) <= 4]\n",
    "headings"
   ]
  },
  {
   "cell_type": "markdown",
   "metadata": {},
   "source": [
    "# Writing to a file on disk"
   ]
  },
  {
   "cell_type": "code",
   "execution_count": null,
   "metadata": {},
   "outputs": [],
   "source": [
    "with open(\"headings.txt\", \"w+\") as fhandle:\n",
    "    for line in headings:\n",
    "        fhandle.write(\"{0}\\n\".format(line))"
   ]
  },
  {
   "cell_type": "markdown",
   "metadata": {},
   "source": [
    "# Create a new list from this text, containing individual words\n",
    "\n",
    "**Hint:** Use the .split(\" \") method to extract individual words from strings."
   ]
  },
  {
   "cell_type": "code",
   "execution_count": null,
   "metadata": {},
   "outputs": [],
   "source": [
    "words = []\n",
    "\n",
    "for line in lines:\n",
    "    words.extend(line.split(\" \"))"
   ]
  },
  {
   "cell_type": "markdown",
   "metadata": {},
   "source": [
    "# Extract the unique words from this list\n",
    "\n",
    "**Hint:** Converting a list into a set ensures that it will have only unique elements. Convert it back into a list to make it mutable."
   ]
  },
  {
   "cell_type": "code",
   "execution_count": null,
   "metadata": {},
   "outputs": [],
   "source": [
    "unique_words = list(set(words))"
   ]
  },
  {
   "cell_type": "markdown",
   "metadata": {},
   "source": [
    "# Create a dictionary with the unique words as key and their frequency as value\n",
    "\n",
    "**Hint:** Dictionary comprehension will come in handy here."
   ]
  },
  {
   "cell_type": "code",
   "execution_count": null,
   "metadata": {},
   "outputs": [],
   "source": [
    "wordcounts = {word:words.count(word) for word in unique_words}"
   ]
  },
  {
   "cell_type": "markdown",
   "metadata": {},
   "source": [
    "# Based on word length and word frequency extract only meaningful words\n",
    "\n",
    "**Hint:** Meaningful words are typically longer words, and words that don't appear too frequently in the text."
   ]
  },
  {
   "cell_type": "code",
   "execution_count": null,
   "metadata": {},
   "outputs": [],
   "source": [
    "meaningful_words = {key:value for (key, value) in wordcounts.items() if value <= 3 and len(key) >= 4}\n",
    "\n",
    "meaningful_words"
   ]
  }
 ],
 "metadata": {
  "kernelspec": {
   "display_name": "Python 3",
   "language": "python",
   "name": "python3"
  },
  "language_info": {
   "codemirror_mode": {
    "name": "ipython",
    "version": 3
   },
   "file_extension": ".py",
   "mimetype": "text/x-python",
   "name": "python",
   "nbconvert_exporter": "python",
   "pygments_lexer": "ipython3",
   "version": "3.5.2"
  }
 },
 "nbformat": 4,
 "nbformat_minor": 2
}
