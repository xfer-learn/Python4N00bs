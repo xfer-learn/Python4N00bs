{
 "cells": [
  {
   "cell_type": "markdown",
   "metadata": {},
   "source": [
    "# Solutions to shared exercises"
   ]
  },
  {
   "cell_type": "markdown",
   "metadata": {},
   "source": [
    "## Create a list of your team member's names and print it out.\n",
    "\n",
    "**Hint:** Create a list in Python using the square [ ] brackets. Use the print statement to display something on the screen."
   ]
  },
  {
   "cell_type": "code",
   "execution_count": null,
   "metadata": {},
   "outputs": [],
   "source": [
    "names = ['Paul', 'Marie', 'Isabell', 'Jochem']\n",
    "print(names)"
   ]
  },
  {
   "cell_type": "markdown",
   "metadata": {},
   "source": [
    "## Using the same list, print each name on an individual line.\n",
    "\n",
    "**Hint:** The for loop can go through all the elements of an iterable, like a list, one by one. The print function prints something out and goes to the next line automatically."
   ]
  },
  {
   "cell_type": "code",
   "execution_count": null,
   "metadata": {},
   "outputs": [],
   "source": [
    "for name in names:\n",
    "    print(name)"
   ]
  },
  {
   "cell_type": "markdown",
   "metadata": {},
   "source": [
    "## Repeat exercise 2, but print the names in reverse order.\n",
    "\n",
    "**Hint:** You can reverse the order of a list using the method .reverse()  \n",
    "Another way to do this would be to use the Python built-in function reversed()."
   ]
  },
  {
   "cell_type": "code",
   "execution_count": null,
   "metadata": {},
   "outputs": [],
   "source": [
    "names.reverse()\n",
    "\n",
    "for name in names:\n",
    "    print(name)"
   ]
  },
  {
   "cell_type": "markdown",
   "metadata": {},
   "source": [
    "## Have the user input a number, that you assign to n. Print the first n names of the list. Ask the user for a different number if the input is no (positive) number or n is larger than the list is long!\n",
    "\n",
    "**Hint:** Use the built-in input() function to input a number. Check if the number is not positive, or if it is larger than the length of the list with an if statement. You can find the length of a list using the built-in len() function. Then print list elements from 1st element to n'th element."
   ]
  },
  {
   "cell_type": "code",
   "execution_count": null,
   "metadata": {},
   "outputs": [],
   "source": [
    "n = int(input(\"Enter a number: \"))\n",
    "\n",
    "if n <= 0:\n",
    "    print(\"Nope. Please re-run this cell and enter a positive number.\")\n",
    "elif n > len(names):\n",
    "    print(\"Nope. Please enter a number that is less than the length of the list.\")\n",
    "else:\n",
    "    print(names[:n])"
   ]
  },
  {
   "cell_type": "markdown",
   "metadata": {},
   "source": [
    "## Find the functions required to sort a list in ascending and descending order, find the amount of occurrences for a certain element as well as the ones to remove and add elements to the list.\n",
    "\n",
    "**Hint:** Use the sorted() function, the count() method, the remove() method, and the append() method."
   ]
  },
  {
   "cell_type": "code",
   "execution_count": null,
   "metadata": {},
   "outputs": [],
   "source": [
    "weird_list = [5, 3, 5, 2, 4, 5, 7, 0, 1, 'Paul']\n",
    "\n",
    "weird_list.remove(\"Paul\")\n",
    "print(weird_list)\n",
    "\n",
    "sort_ascend = sorted(weird_list)\n",
    "print(sort_ascend)\n",
    "\n",
    "sort_descend = sorted(weird_list, reverse=True)\n",
    "print(sort_descend)\n",
    "\n",
    "number_of_fives = weird_list.count(5)\n",
    "print(\"Number of fives in the list is \" + str(number_of_fives))\n",
    "\n",
    "weird_list.append(\"Pauline\")\n",
    "print(weird_list)"
   ]
  },
  {
   "cell_type": "markdown",
   "metadata": {},
   "source": [
    "## For the same list, print all elements that are larger than three.\n",
    "\n",
    "**Hint:** Use a for loop, or use list comprehension."
   ]
  },
  {
   "cell_type": "code",
   "execution_count": null,
   "metadata": {},
   "outputs": [],
   "source": [
    "for element in weird_list:\n",
    "    \n",
    "    # Remember, check if the element is an integer. Only numbers can be compared with other numbers!\n",
    "    if type(element) == int:\n",
    "        if element > 3:\n",
    "            print(element)"
   ]
  },
  {
   "cell_type": "code",
   "execution_count": null,
   "metadata": {},
   "outputs": [],
   "source": [
    "# Here is another way of doing it:\n",
    "\n",
    "print([element for element in weird_list if type(element) == int and element > 3])"
   ]
  },
  {
   "cell_type": "markdown",
   "metadata": {},
   "source": [
    "## Print the type of each element on a separate line."
   ]
  },
  {
   "cell_type": "code",
   "execution_count": null,
   "metadata": {},
   "outputs": [],
   "source": [
    "weird_list = [{}, [], 5.1, 2e5, None, 5, 1j, True, \"Pauline\", 'Paul', 'c']\n",
    "\n",
    "for element in weird_list:\n",
    "    print(type(element))"
   ]
  },
  {
   "cell_type": "markdown",
   "metadata": {},
   "source": [
    "## In a nested list, write a piece of code, that replaces the five with a four.\n",
    "\n",
    "**Hint:** We use a 2 (or more) dimensional index to access an element in a nested list."
   ]
  },
  {
   "cell_type": "code",
   "execution_count": null,
   "metadata": {},
   "outputs": [],
   "source": [
    "nested_list = [[1,2], [3,5]]\n",
    "\n",
    "print(nested_list[0][0])\n",
    "print(nested_list[0][1])\n",
    "print(nested_list[1][0])\n",
    "print(nested_list[1][1])\n",
    "\n",
    "nested_list[1][1] = 4\n",
    "print(nested_list)"
   ]
  },
  {
   "cell_type": "markdown",
   "metadata": {},
   "source": [
    "## Write a piece of code, that multiplies all entries of the nested list from the previous exercise. Ensure that the same code also works for nested lists of larger dimensions.\n",
    "\n",
    "**Hint:** You can go through the list using a nested for loop, multiplying as you go."
   ]
  },
  {
   "cell_type": "code",
   "execution_count": null,
   "metadata": {},
   "outputs": [],
   "source": [
    "nested_list = [[1,2], [3,5]]\n",
    "\n",
    "product = 1\n",
    "for inner_list in nested_list:\n",
    "    for element in inner_list:\n",
    "        product = product * element\n",
    "\n",
    "print(\"The product of all elements in the list is \" + str(product))"
   ]
  },
  {
   "cell_type": "code",
   "execution_count": null,
   "metadata": {},
   "outputs": [],
   "source": [
    "bigger_nested_list = [[1, 2, 3, 4], [5, 6, 7, 8], [9, 10, 11, 12]]\n",
    "\n",
    "product = 1\n",
    "for inner_list in bigger_nested_list:\n",
    "    for element in inner_list:\n",
    "        product = product * element\n",
    "\n",
    "print(\"The product of all elements in the bigger nested list is \" + str(product))"
   ]
  },
  {
   "cell_type": "code",
   "execution_count": null,
   "metadata": {},
   "outputs": [],
   "source": [
    "weird_nested_list = [[1, 2, 3,], [4, 5, 6, 7], [8,]]\n",
    "\n",
    "product = 1\n",
    "for inner_list in weird_nested_list:\n",
    "    for element in inner_list:\n",
    "        product = product * element\n",
    "\n",
    "print(\"The product of all elements in the weird nested list is \" + str(product))"
   ]
  }
 ],
 "metadata": {
  "kernelspec": {
   "display_name": "Python 3",
   "language": "python",
   "name": "python3"
  },
  "language_info": {
   "codemirror_mode": {
    "name": "ipython",
    "version": 3
   },
   "file_extension": ".py",
   "mimetype": "text/x-python",
   "name": "python",
   "nbconvert_exporter": "python",
   "pygments_lexer": "ipython3",
   "version": "3.5.2"
  }
 },
 "nbformat": 4,
 "nbformat_minor": 2
}
