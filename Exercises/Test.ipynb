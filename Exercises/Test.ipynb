{
 "cells": [
  {
   "cell_type": "markdown",
   "metadata": {},
   "source": [
    "# Python for n00bs - final test"
   ]
  },
  {
   "cell_type": "markdown",
   "metadata": {},
   "source": [
    "This notebook contains exercises that will test the skills you have learned over the past 4 workshops. You have 1,5 hours to complete the exercises. Once you are done with an exercise, run the assesment cell at the end of the exercise to check your answers. You will see \"Test Passed\" for every exercise that you got the correct answer for."
   ]
  },
  {
   "cell_type": "markdown",
   "metadata": {},
   "source": [
    "# Exercise 0: An example of how this works"
   ]
  },
  {
   "cell_type": "markdown",
   "metadata": {},
   "source": [
    "This is an example exercise which has already been solved. This is just to show you how to use this notebook. The exercise is to make a list of numbers from 1 to 10."
   ]
  },
  {
   "cell_type": "code",
   "execution_count": null,
   "metadata": {},
   "outputs": [],
   "source": [
    "## ToDo: Make a list of numbers from 1 to 10 and call it numbers.\n",
    "\n",
    "numbers = list(range(1, 11))\n",
    "print(numbers)"
   ]
  },
  {
   "cell_type": "markdown",
   "metadata": {},
   "source": [
    "Run the next cell to check that you have the correct (expected) code."
   ]
  },
  {
   "cell_type": "code",
   "execution_count": null,
   "metadata": {},
   "outputs": [],
   "source": [
    "from assertions import Exercise0\n",
    "Exercise0(numbers)"
   ]
  },
  {
   "cell_type": "markdown",
   "metadata": {},
   "source": [
    "## Exercise 1: Password check\n",
    "\n",
    "For this exercise, you need to write a function. The name of this function is **pwdCheck**. This function takes a single argument, called **pwd**. This argument is a string. The goal of the function is to check that the string **pwd** is a good, strong password. The function checks the following things:  \n",
    "* The password contains at least one capital (hoofd) letter.\n",
    "* The password contains at least one small (kleine) letter.\n",
    "* The password contains at least one number.\n",
    "* The password contains at least punctuation (speciaal) character.\n",
    "\n",
    "Finally, the function returns a boolean value, which is True if the password is strong, and False if the password does not match any of the 3 of the conditions above.  \n",
    "\n",
    "**Examples:**  \n",
    "pwdCheck(\"$1nterKlaas\")  \n",
    "True  \n",
    "  \n",
    "pwdCheck(\"P@kjesboot12\")  \n",
    "True  \n",
    "  \n",
    "pwdCheck(\"amerigo\")  \n",
    "False  \n",
    "  \n",
    "*Hint 1:* Python strings have built-in methods to check whether a letter is capital or small.  \n",
    "*Hint 2:* Likewise, Python strings have a method to check if a letter is numeric (number) or not.  \n",
    "*Hint 3:* You can find a list of punctuation characters if you import the string library and look at the attribute string.punctuation."
   ]
  },
  {
   "cell_type": "code",
   "execution_count": null,
   "metadata": {},
   "outputs": [],
   "source": [
    "def pwdCheck(pwd):\n",
    "    ## ToDo: Fill in the code in this function\n",
    "    \n",
    "    \n",
    "    \n",
    "    \n",
    "    \n",
    "    ## check should be True or False depending on the string contained in pwd\n",
    "    return check"
   ]
  },
  {
   "cell_type": "markdown",
   "metadata": {},
   "source": [
    "When you have finished coding the function, run this next cell to check your answers."
   ]
  },
  {
   "cell_type": "code",
   "execution_count": null,
   "metadata": {},
   "outputs": [],
   "source": [
    "from assertions import Exercise1\n",
    "Exercise1(pwdCheck)"
   ]
  },
  {
   "cell_type": "markdown",
   "metadata": {},
   "source": [
    "## Exercise 2: Find the extent of a list of numbers"
   ]
  },
  {
   "cell_type": "markdown",
   "metadata": {},
   "source": [
    "The extent of a list of numbers is the **largest number minus the smallest number**. Your task here is to write a function that takes a list of numbers as an argument, and returns the extent. The first thing you should do, is check that the list you provide to the function has only integers in it. If any of the values are not integers, return the value -1. Otherwise, return the largest number minus the smallest number.\n",
    "\n",
    "**Examples:**  \n",
    "extent(34, 30, 14, 50, 55)  \n",
    "41  \n",
    "  \n",
    "extent(1, 10, 2, 9, 3, 8, 4, 7, 5, 6)  \n",
    "9  \n",
    "  \n",
    "extent(1, 4, 5, 7, \"a\", \"b\", \"c\")  \n",
    "-1  \n",
    "  \n",
    "*Hint 1:* You can check if a variable contains an integer or not by using the type() function.  \n",
    "*Hint 2:* Sorting the list might make things a lot easier for you."
   ]
  },
  {
   "cell_type": "code",
   "execution_count": null,
   "metadata": {},
   "outputs": [],
   "source": [
    "def extent(*args):\n",
    "    ## ToDo: Fill in the code in this function\n",
    "    \n",
    "    \n",
    "    \n",
    "    \n",
    "    \n",
    "    ## If there is a non-integer in the list, extent = -1. Otherwise return the actual extent.\n",
    "    return extent"
   ]
  },
  {
   "cell_type": "markdown",
   "metadata": {},
   "source": [
    "Once you are done, run the next cell to check your answers."
   ]
  },
  {
   "cell_type": "code",
   "execution_count": null,
   "metadata": {},
   "outputs": [],
   "source": [
    "from assertions import Exercise2\n",
    "Exercise2(extent)"
   ]
  },
  {
   "cell_type": "markdown",
   "metadata": {},
   "source": [
    "## Exercise 3: Files and dictionaries"
   ]
  },
  {
   "cell_type": "markdown",
   "metadata": {},
   "source": [
    "You will find a file named \"browsing_info.txt\" in the Exercise directory. Download this file and keep it in the same directory as this notebook. You have to do the following:  \n",
    "* Read the file into memory, as a list of lines\n",
    "* Remove the \\n (newline) character from each of the lines you just read into memory.\n",
    "* Each line of the file contains a term followed by a value. For example - Name:Piet, Web Browser:Chrome. Etc. Your task is to create a Python dictionary that contains the term as the key, and the corresponding value for that term as the value, for each item in the dictionary.\n",
    "* Save this dictionary in a variable called browsing_dict\n",
    "* Find the value corresponding to the key \"IP address\" in this dictionary. Save this value in the variable called IP.  \n",
    "  \n",
    "*Hint 1:* You need to separate each line of text based on the term and value. Each term and value have a **-** between them in the text file. Can you think of a Python string method that separates strings based on a specific character?  \n",
    "*Hint 2:* There are many ways to remove the \\n character. One way is to use the .rstrip() method. Another way could be to just delete the last character from each line. See what's easiest for you.  "
   ]
  },
  {
   "cell_type": "code",
   "execution_count": null,
   "metadata": {},
   "outputs": [],
   "source": [
    "## ToDo: Complete the code here\n",
    "# Remember - read the file as a list of lines. Remove the \\n character from the end of each line.\n",
    "\n",
    "\n",
    "\n",
    "## The variable browsing_dict should contain the correct Python dictionary\n",
    "\n",
    "\n",
    "\n",
    "\n",
    "## The variable IP should contain the value corresponding to the IP address from this dictionary\n",
    "\n",
    "\n",
    "\n",
    "\n"
   ]
  },
  {
   "cell_type": "markdown",
   "metadata": {},
   "source": [
    "When you're done, run the next cell to check your answers"
   ]
  },
  {
   "cell_type": "code",
   "execution_count": null,
   "metadata": {},
   "outputs": [],
   "source": [
    "from assertions import Exercise3\n",
    "Exercise3(browsing_dict, IP)"
   ]
  },
  {
   "cell_type": "markdown",
   "metadata": {},
   "source": [
    "## Exercise 4: Flipping an image"
   ]
  },
  {
   "cell_type": "markdown",
   "metadata": {},
   "source": [
    "In this next exercise, you will read an image into memory, using the OpenCV library (cv2). You will find this image in the Exercises folder, under the name \"flipped.jpg\". As you can see, this image is flipped on its side. Your task is to flip the image the right way up, and then display it using the pyplot library from matplotlib. That's all!  \n",
    "  \n",
    "*Hint 1:*  Use the cv2 and matplotlib.pyplot functions.  \n",
    "*Hint 2:* The matrix transpose attribute can be very handy here. Look this up!  \n",
    "*Hint 3:* When you display the image, try specifying cmap=\"gray\" in the list of parameters to the display function."
   ]
  },
  {
   "cell_type": "code",
   "execution_count": null,
   "metadata": {},
   "outputs": [],
   "source": [
    "## ToDo: Write your code here, to read the image into memory, flip it the right way up, and display it.\n",
    "\n",
    "\n",
    "\n",
    "\n"
   ]
  },
  {
   "cell_type": "markdown",
   "metadata": {},
   "source": [
    "There is no code to check this result. You just need to see that the image you display is the right way up :)"
   ]
  }
 ],
 "metadata": {
  "kernelspec": {
   "display_name": "Python 3",
   "language": "python",
   "name": "python3"
  },
  "language_info": {
   "codemirror_mode": {
    "name": "ipython",
    "version": 3
   },
   "file_extension": ".py",
   "mimetype": "text/x-python",
   "name": "python",
   "nbconvert_exporter": "python",
   "pygments_lexer": "ipython3",
   "version": "3.5.2"
  }
 },
 "nbformat": 4,
 "nbformat_minor": 2
}
