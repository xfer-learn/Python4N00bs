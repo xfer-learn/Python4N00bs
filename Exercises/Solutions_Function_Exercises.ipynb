{
 "cells": [
  {
   "cell_type": "markdown",
   "metadata": {
    "colab_type": "text",
    "id": "aBRk5Fhz9W6b"
   },
   "source": [
    "# Solutions to functions exercises"
   ]
  },
  {
   "cell_type": "markdown",
   "metadata": {
    "colab_type": "text",
    "id": "SaRtOFMN9W6c"
   },
   "source": [
    "## Count the number of times a number appears in a list of integers."
   ]
  },
  {
   "cell_type": "code",
   "execution_count": null,
   "metadata": {
    "colab": {},
    "colab_type": "code",
    "id": "k7hUe5Dq9W6d"
   },
   "outputs": [],
   "source": [
    "def intCounter(*args):\n",
    "    unique_items = list(set(args))\n",
    "    \n",
    "    for item in unique_items:\n",
    "        if type(item) != int:\n",
    "            print(\"{0} is not a number.\".format(item))\n",
    "        else:\n",
    "            appearances = args.count(item)\n",
    "            print(\"The number {0} appears {1} times.\".format(item, appearances))"
   ]
  },
  {
   "cell_type": "code",
   "execution_count": null,
   "metadata": {
    "colab": {},
    "colab_type": "code",
    "id": "xzx_MFST9W6g",
    "outputId": "ed24a05a-3c7e-4a40-f40d-5b88cd1f788f"
   },
   "outputs": [],
   "source": [
    "intCounter(1, 1, 1, 3, 1, 4, 1, 1, 3)"
   ]
  },
  {
   "cell_type": "code",
   "execution_count": null,
   "metadata": {
    "colab": {},
    "colab_type": "code",
    "id": "H2639oN19W6j",
    "outputId": "49d19d94-9794-4878-893a-5a2d6c2f3b8c"
   },
   "outputs": [],
   "source": [
    "intCounter(1, 1, 1, 'a', 'b', 'c')"
   ]
  },
  {
   "cell_type": "markdown",
   "metadata": {
    "colab_type": "text",
    "id": "8zsbKc7n9W6m"
   },
   "source": [
    "## Find and return the mode of a list of numbers."
   ]
  },
  {
   "cell_type": "code",
   "execution_count": null,
   "metadata": {
    "colab": {},
    "colab_type": "code",
    "id": "wk-j55Nl9W6m"
   },
   "outputs": [],
   "source": [
    "def mode(*args):\n",
    "    unique_items = list(set(args))\n",
    "    most_appearances = 0 # A number which we will usr to store the highest number of occurences of an item\n",
    "    \n",
    "    for item in unique_items:\n",
    "        if type(item) == int:\n",
    "            appearances = args.count(item)\n",
    "            \n",
    "            if appearances > most_appearances:\n",
    "                # Reset the most_appearances variable\n",
    "                most_appearances = appearances\n",
    "                result = item\n",
    "    \n",
    "    return result"
   ]
  },
  {
   "cell_type": "code",
   "execution_count": null,
   "metadata": {
    "colab": {},
    "colab_type": "code",
    "id": "kcsCkMHL9W6p",
    "outputId": "81ed2a81-86ce-48c9-eb98-4324c4342a71"
   },
   "outputs": [],
   "source": [
    "result = mode(1, 1, 1, 3, 1, 4, 1, 1, 3)\n",
    "print(result)"
   ]
  },
  {
   "cell_type": "code",
   "execution_count": null,
   "metadata": {
    "colab": {},
    "colab_type": "code",
    "id": "zgs2z5aZ9W6r",
    "outputId": "8990a9d2-3bc1-4e40-d496-ebdebfc7ab62"
   },
   "outputs": [],
   "source": [
    "result = mode(5, 5, 5, 2, 3, 'a', 'a', 'a', 'a')\n",
    "print(result)"
   ]
  },
  {
   "cell_type": "markdown",
   "metadata": {
    "colab_type": "text",
    "id": "AFodjY5f9W6u"
   },
   "source": [
    "## Function to make a fancy looking plot"
   ]
  },
  {
   "cell_type": "code",
   "execution_count": null,
   "metadata": {
    "colab": {},
    "colab_type": "code",
    "id": "HuyUL53F9W6u"
   },
   "outputs": [],
   "source": [
    "def neatPlotter(list1, list2):\n",
    "    import matplotlib.pyplot as plt\n",
    "    \n",
    "    # First let's check that the two lists are the same size. If not, we'll print an error.\n",
    "    if(len(list1) != len(list2)):\n",
    "        print(\"Error! Lists must be same size!\")\n",
    "        \n",
    "    # Now let's check that both lists have only integers in them\n",
    "    elif any(type(item)!=int for item in list1):\n",
    "        print(\"Error! Lists must contain only int!\")\n",
    "        \n",
    "    elif any(type(item)!=int for item in list2):\n",
    "        print(\"Error! Lists must contain only int!\")\n",
    "        \n",
    "    # If all the conditions are met, we can plot!\n",
    "    else:\n",
    "        plt.plot(list2, list1, 'ro')\n",
    "        plt.xlabel(\"X values\")\n",
    "        plt.ylabel(\"Y values\")\n",
    "        plt.title(\"Neat plot\")\n",
    "        plt.grid()\n",
    "        plt.show()"
   ]
  },
  {
   "cell_type": "code",
   "execution_count": null,
   "metadata": {
    "colab": {},
    "colab_type": "code",
    "id": "KMlCyPCK9W6w",
    "outputId": "88839c5c-d974-432e-da29-86cf7019fd8c"
   },
   "outputs": [],
   "source": [
    "neatPlotter([1, 2, 3, 4, 5], [1, 4, 9, 16, 25])"
   ]
  },
  {
   "cell_type": "markdown",
   "metadata": {
    "colab_type": "text",
    "id": "M1iVVI5l9W6z"
   },
   "source": [
    "## Function to make a circular mask in the center of an image"
   ]
  },
  {
   "cell_type": "code",
   "execution_count": null,
   "metadata": {
    "colab": {},
    "colab_type": "code",
    "id": "E3HEl65p9b6X"
   },
   "outputs": [],
   "source": [
    "def circleFrame(path, r):\n",
    "    import cv2\n",
    "    \n",
    "    # Read in the image\n",
    "    img = cv2.imread(\"test_image.jpg\", 0)\n",
    "\n",
    "    # Make a grid, with (0,0) at the center of the image\n",
    "    y,x = np.mgrid[-img.shape[0]/2:img.shape[0]/2, -img.shape[1]/2:img.shape[1]/2]\n",
    "\n",
    "    # Make the circular mask\n",
    "    mask = x ** 2 + y ** 2 < r ** 2\n",
    "\n",
    "    # Multiply this mask with the image\n",
    "    new_img = img * mask\n",
    "\n",
    "    # Display the image\n",
    "    plt.imshow(new_img, cmap=\"gray\")"
   ]
  },
  {
   "cell_type": "code",
   "execution_count": null,
   "metadata": {
    "colab": {
     "base_uri": "https://localhost:8080/",
     "height": 269
    },
    "colab_type": "code",
    "id": "Opqx1l0S_fRA",
    "outputId": "785c2084-7b98-432e-e9c3-3607cffbafad"
   },
   "outputs": [],
   "source": [
    "circleFrame(\"test_image.jpg\", 1000)"
   ]
  }
 ],
 "metadata": {
  "colab": {
   "name": "Solutions_Function_Exercises.ipynb",
   "provenance": [],
   "toc_visible": true
  },
  "kernelspec": {
   "display_name": "Python 3",
   "language": "python",
   "name": "python3"
  },
  "language_info": {
   "codemirror_mode": {
    "name": "ipython",
    "version": 3
   },
   "file_extension": ".py",
   "mimetype": "text/x-python",
   "name": "python",
   "nbconvert_exporter": "python",
   "pygments_lexer": "ipython3",
   "version": "3.5.2"
  }
 },
 "nbformat": 4,
 "nbformat_minor": 1
}
