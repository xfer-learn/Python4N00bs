{
 "cells": [
  {
   "cell_type": "markdown",
   "metadata": {},
   "source": [
    "# Solutions to functions exercises"
   ]
  },
  {
   "cell_type": "markdown",
   "metadata": {},
   "source": [
    "## Count the number of times a number appears in a list of integers."
   ]
  },
  {
   "cell_type": "code",
   "execution_count": 2,
   "metadata": {},
   "outputs": [],
   "source": [
    "def intCounter(*args):\n",
    "    unique_items = list(set(args))\n",
    "    \n",
    "    for item in unique_items:\n",
    "        if type(item) != int:\n",
    "            print(\"{0} is not a number.\".format(item))\n",
    "        else:\n",
    "            appearances = args.count(item)\n",
    "            print(\"The number {0} appears {1} times.\".format(item, appearances))"
   ]
  },
  {
   "cell_type": "code",
   "execution_count": 3,
   "metadata": {},
   "outputs": [
    {
     "name": "stdout",
     "output_type": "stream",
     "text": [
      "The number 1 appears 6 times.\n",
      "The number 3 appears 2 times.\n",
      "The number 4 appears 1 times.\n"
     ]
    }
   ],
   "source": [
    "intCounter(1, 1, 1, 3, 1, 4, 1, 1, 3)"
   ]
  },
  {
   "cell_type": "code",
   "execution_count": 5,
   "metadata": {},
   "outputs": [
    {
     "name": "stdout",
     "output_type": "stream",
     "text": [
      "The number 1 appears 3 times.\n",
      "c is not a number.\n",
      "a is not a number.\n",
      "b is not a number.\n"
     ]
    }
   ],
   "source": [
    "intCounter(1, 1, 1, 'a', 'b', 'c')"
   ]
  },
  {
   "cell_type": "markdown",
   "metadata": {},
   "source": [
    "## Find and return the mode of a list of numbers."
   ]
  },
  {
   "cell_type": "code",
   "execution_count": 6,
   "metadata": {},
   "outputs": [],
   "source": [
    "def mode(*args):\n",
    "    unique_items = list(set(args))\n",
    "    most_appearances = 0 # A number which we will usr to store the highest number of occurences of an item\n",
    "    \n",
    "    for item in unique_items:\n",
    "        if type(item) == int:\n",
    "            appearances = args.count(item)\n",
    "            \n",
    "            if appearances > most_appearances:\n",
    "                # Reset the most_appearances variable\n",
    "                most_appearances = appearances\n",
    "                result = item\n",
    "    \n",
    "    return result"
   ]
  },
  {
   "cell_type": "code",
   "execution_count": 7,
   "metadata": {},
   "outputs": [
    {
     "name": "stdout",
     "output_type": "stream",
     "text": [
      "1\n"
     ]
    }
   ],
   "source": [
    "result = mode(1, 1, 1, 3, 1, 4, 1, 1, 3)\n",
    "print(result)"
   ]
  },
  {
   "cell_type": "code",
   "execution_count": 9,
   "metadata": {},
   "outputs": [
    {
     "name": "stdout",
     "output_type": "stream",
     "text": [
      "5\n"
     ]
    }
   ],
   "source": [
    "result = mode(5, 5, 5, 2, 3, 'a', 'a', 'a', 'a')\n",
    "print(result)"
   ]
  },
  {
   "cell_type": "markdown",
   "metadata": {},
   "source": [
    "## Function to make a fancy looking plot"
   ]
  },
  {
   "cell_type": "code",
   "execution_count": 12,
   "metadata": {},
   "outputs": [],
   "source": [
    "def neatPlotter(list1, list2):\n",
    "    import matplotlib.pyplot as plt\n",
    "    \n",
    "    # First let's check that the two lists are the same size. If not, we'll print an error.\n",
    "    if(len(list1) != len(list2)):\n",
    "        print(\"Error! Lists must be same size!\")\n",
    "        \n",
    "    # Now let's check that both lists have only integers in them\n",
    "    elif any(type(item)!=int for item in list1):\n",
    "        print(\"Error! Lists must contain only int!\")\n",
    "        \n",
    "    elif any(type(item)!=int for item in list2):\n",
    "        print(\"Error! Lists must contain only int!\")\n",
    "        \n",
    "    # If all the conditions are met, we can plot!\n",
    "    else:\n",
    "        plt.plot(list2, list1, 'ro')\n",
    "        plt.xlabel(\"X values\")\n",
    "        plt.ylabel(\"Y values\")\n",
    "        plt.title(\"Neat plot\")\n",
    "        plt.grid()\n",
    "        plt.show()"
   ]
  },
  {
   "cell_type": "code",
   "execution_count": 13,
   "metadata": {},
   "outputs": [
    {
     "data": {
      "image/png": "[encoded data removed]",
      "text/plain": [
       "<Figure size 432x288 with 1 Axes>"
      ]
     },
     "metadata": {},
     "output_type": "display_data"
    }
   ],
   "source": [
    "neatPlotter([1, 2, 3, 4, 5], [1, 4, 9, 16, 25])"
   ]
  },
  {
   "cell_type": "markdown",
   "metadata": {},
   "source": [
    "## Function to make a circular mask in the center of an image"
   ]
  }
 ],
 "metadata": {
  "kernelspec": {
   "display_name": "Python 3",
   "language": "python",
   "name": "python3"
  },
  "language_info": {
   "codemirror_mode": {
    "name": "ipython",
    "version": 3
   },
   "file_extension": ".py",
   "mimetype": "text/x-python",
   "name": "python",
   "nbconvert_exporter": "python",
   "pygments_lexer": "ipython3",
   "version": "3.5.2"
  }
 },
 "nbformat": 4,
 "nbformat_minor": 2
}
