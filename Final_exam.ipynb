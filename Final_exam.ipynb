{
 "cells": [
  {
   "cell_type": "markdown",
   "metadata": {},
   "source": [
    "# Python for n00bs - final exam"
   ]
  },
  {
   "cell_type": "markdown",
   "metadata": {},
   "source": [
    "This notebook contains the final exam covering the skills you have learned in the 4 workshops.  \n",
    "Write your answers to the questions either in new code cells, or in the intentional gaps in the existing code cells.  \n",
    "Some tips:\n",
    "1. Add plenty of comments to your code to make it more understandable. Good comments with your reasoning clearly stated will also count towards your score.\n",
    "2. If you are struggling with a question, break it down into smaller steps and write out a comment for each step.\n",
    "3. Use Google, Stack Overflow, and any other online resource you need. Just don't ask anyone else to solve the questions for you!\n",
    "\n",
    "After you solve the exam, download it as an .ipynb file, compress it (zip it) with the other files that you use in this exam, and email me the single zipped file at vik.radhkrishn@gmail.com \n",
    "\n",
    "Good luck, and have fun solving these questions!"
   ]
  },
  {
   "cell_type": "markdown",
   "metadata": {},
   "source": [
    "## Exercise 0: An example of how this works"
   ]
  },
  {
   "cell_type": "markdown",
   "metadata": {},
   "source": [
    "This is an example exercise which has already been solved. This is just to show you how to use this notebook. The exercise is to make a list of numbers from 1 to 10 and print it."
   ]
  },
  {
   "cell_type": "code",
   "execution_count": null,
   "metadata": {},
   "outputs": [],
   "source": [
    "# Make a list of numbers from 1 to 10 and call it numbers.\n",
    "# I will use the built-in Python range function to make the numbers, and convert it into a list datatype\n",
    "# Adding comments like the one above that describes your logic will help you code, and will count for your score\n",
    "\n",
    "numbers = list(range(1, 11))\n",
    "print(numbers)"
   ]
  },
  {
   "cell_type": "markdown",
   "metadata": {},
   "source": [
    "## Exercise 1: Correct the syntax errors "
   ]
  },
  {
   "cell_type": "markdown",
   "metadata": {},
   "source": [
    "Each of the following code cells contains a syntax error. Can you fix these errors so that the code runs as expected?"
   ]
  },
  {
   "cell_type": "code",
   "execution_count": null,
   "metadata": {},
   "outputs": [],
   "source": [
    "textbox = Input(\"Enter your name: \")\n",
    "print(f\"Welcome to Python, {textbox}\")"
   ]
  },
  {
   "cell_type": "code",
   "execution_count": null,
   "metadata": {},
   "outputs": [],
   "source": [
    "b1 = 10\n",
    "b2 = 20\n",
    "\n",
    "if b1 > b2:\n",
    "diff = b1 - b2\n",
    "    else:\n",
    "    diff = b2 - b1\n",
    "    \n",
    "print(f\"The difference between {b1} and {b2} is {diff}\")"
   ]
  },
  {
   "cell_type": "code",
   "execution_count": null,
   "metadata": {},
   "outputs": [],
   "source": [
    "fibo_list = (1, 1, 2, 3, 5, 8, 13)\n",
    "\n",
    "fibo_list.append(21)\n",
    "\n",
    "print(fibo_list)"
   ]
  },
  {
   "cell_type": "code",
   "execution_count": null,
   "metadata": {},
   "outputs": [],
   "source": [
    "pirate_phrases = [\"Arrr\", \"Ahoy matey\", \"Walk the plank\", \"Swab the decks\"]\n",
    "\n",
    "greeting = input(\"Hello! Say something to prove you are not a pirate: \")\n",
    "\n",
    "if greeting is in pirate_phrases:\n",
    "    print(\"No piracy allowed!\")\n",
    "else:\n",
    "    print(\"Welcome, non-pirate!\")"
   ]
  },
  {
   "cell_type": "code",
   "execution_count": null,
   "metadata": {},
   "outputs": [],
   "source": [
    "e1 = 15\n",
    "e2 = 17\n",
    "\n",
    "if e1 = e2:\n",
    "    print(f\"The numbers {e1} and {e2} are equal\")\n",
    "else:\n",
    "    print(f\"The numbers {e1} and {e2} are not equal\")"
   ]
  },
  {
   "cell_type": "markdown",
   "metadata": {},
   "source": [
    "## Exercise 2: using built-in Python functions"
   ]
  },
  {
   "cell_type": "markdown",
   "metadata": {},
   "source": [
    "For this exercise you can refer to the list of [Built-in Functions](https://docs.python.org/3/library/functions.html) in Python. Your task will be to identify which function to use, and then use it to solve each problem below. Note that there are many ways to solve these problems, but the goal here is to find a way using built-in functions."
   ]
  },
  {
   "cell_type": "markdown",
   "metadata": {},
   "source": [
    "1. This is a list of numbers. Use a built-in Python function to sort it in ascending order (smallest to largest). Then display the sorted list."
   ]
  },
  {
   "cell_type": "code",
   "execution_count": null,
   "metadata": {},
   "outputs": [],
   "source": [
    "numbers = [7, 4, 42, 3, 86, 8, 200, 10, 20, 15, 25]\n",
    "\n",
    "# # You can write your code below this line or in a new code cell\n",
    "\n",
    "\n",
    "\n"
   ]
  },
  {
   "cell_type": "markdown",
   "metadata": {},
   "source": [
    "2. For the same list of numbers above, now sort it in descending order (largest to smallest). Then display it."
   ]
  },
  {
   "cell_type": "code",
   "execution_count": null,
   "metadata": {},
   "outputs": [],
   "source": [
    "# # You can write your code below this line or in a new code cell\n",
    "\n",
    "\n",
    "\n"
   ]
  },
  {
   "cell_type": "markdown",
   "metadata": {},
   "source": [
    "3. For the same list above, display only the largest number in the list. Then display only the smallest number in the list."
   ]
  },
  {
   "cell_type": "code",
   "execution_count": null,
   "metadata": {},
   "outputs": [],
   "source": [
    "# # You can write your code below this line or in a new code cell\n",
    "\n",
    "\n",
    "\n"
   ]
  },
  {
   "cell_type": "markdown",
   "metadata": {},
   "source": [
    "4. For the same list above, calculate the average of all the numbers in the list. Remember, the average is the total of all the numbers divided by how many numbers there are."
   ]
  },
  {
   "cell_type": "code",
   "execution_count": null,
   "metadata": {},
   "outputs": [],
   "source": [
    "# # You can write your code below this line or in a new code cell\n",
    "\n",
    "\n",
    "\n"
   ]
  },
  {
   "cell_type": "markdown",
   "metadata": {},
   "source": [
    "5. Create a list of consecutive numbers starting from 6 and ending at 16. Display it. "
   ]
  },
  {
   "cell_type": "code",
   "execution_count": null,
   "metadata": {},
   "outputs": [],
   "source": [
    "# # You can write your code below this line or in a new code cell\n",
    "\n",
    "\n",
    "\n"
   ]
  },
  {
   "cell_type": "markdown",
   "metadata": {},
   "source": [
    "6. This is a string. Extract only the unique characters from this string (no duplicate characters). Display the result."
   ]
  },
  {
   "cell_type": "code",
   "execution_count": null,
   "metadata": {},
   "outputs": [],
   "source": [
    "pangram = \"the quick brown fox jumps over the lazy dog\"\n",
    "\n",
    "# # You can write your code below this line or in a new code cell\n",
    "\n"
   ]
  },
  {
   "cell_type": "markdown",
   "metadata": {},
   "source": [
    "7. This is a list of months. Display the number of each month along with the month itself. This is what the output should look like:  \n",
    "(1, 'January'), (2, 'February'), (3, 'March')  \n",
    "(and so on)"
   ]
  },
  {
   "cell_type": "code",
   "execution_count": null,
   "metadata": {},
   "outputs": [],
   "source": [
    "months = ['January', 'February', 'March', 'April', 'May', 'June', 'July', 'August', 'September', 'October', 'November', 'December']\n",
    "\n",
    "# # You can write your code below this line or in a new code cell\n",
    "\n",
    "\n"
   ]
  },
  {
   "cell_type": "markdown",
   "metadata": {},
   "source": [
    "8. This is a list of characters (every element has datatype str). Convert it into a list of integers (every element should have datatype int). You can store the result in a new list called integers."
   ]
  },
  {
   "cell_type": "code",
   "execution_count": null,
   "metadata": {},
   "outputs": [],
   "source": [
    "characters = [\"31\", \"28\", \"31\", \"30\", \"31\", \"30\", \"31\", \"31\", \"30\", \"31\", \"30\", \"31\"]\n",
    "\n",
    "# # You can write your code below this line or in a new code cell\n",
    "\n",
    "integers = "
   ]
  },
  {
   "cell_type": "markdown",
   "metadata": {},
   "source": [
    "## Exercise 3: Grade check"
   ]
  },
  {
   "cell_type": "markdown",
   "metadata": {},
   "source": [
    "1. Ask the user to enter a test score between 1 and 10. Ask this 3 times (so the user enters 3 test scores in total).\n",
    "2. For all 3 test scores, check that the user has entered a number between 1 and 10. If they enter anything else, display an error message and stop the program.\n",
    "3. If the user enters 3 valid test scores, calculate the average of these 3 test scores.\n",
    "4. Based on the average test score, calculate the grade.  \n",
    "--- If the average test score is less than 6, the grade is 'F'.  \n",
    "--- If it is equal to 6, the grade is 'D'.  \n",
    "--- If is is equal to 7, the grade is 'C'.  \n",
    "--- If is is equal to 8, the grade is 'B'.  \n",
    "--- If is is equal to 9, the grade is 'A'.  \n",
    "--- If is is equal to 10, the grade is 'S'.\n",
    "5. Display the grade."
   ]
  },
  {
   "cell_type": "code",
   "execution_count": null,
   "metadata": {},
   "outputs": [],
   "source": [
    "# # You can write your code below this line or in a new code cell\n",
    "\n",
    "\n",
    "\n",
    "\n",
    "\n"
   ]
  },
  {
   "cell_type": "markdown",
   "metadata": {},
   "source": [
    "## Exercise 4: Triangle type"
   ]
  },
  {
   "cell_type": "markdown",
   "metadata": {},
   "source": [
    "There are three types of triangles.\n",
    "1. In an \"**equilateral**\" triangle, all 3 sides are equal.\n",
    "2. In an \"**isosceles**\" trianle, only any 2 out of 3 sides are equal.\n",
    "3. In a \"**scalene**\" triangle, all 3 sides are unequal.  \n",
    "\n",
    "Your task is to ask the user to enter the lengths of 3 sides of a triangle. These can be 3 float numbers. Based on these lengths, check which type of triangle it is, and print \"equilateral\" or \"isosceles\" or \"scalene\" depending on the result."
   ]
  },
  {
   "cell_type": "code",
   "execution_count": null,
   "metadata": {},
   "outputs": [],
   "source": [
    "# # You can write your code below this line or in a new code cell\n",
    "\n",
    "\n",
    "\n",
    "\n",
    "\n"
   ]
  },
  {
   "cell_type": "markdown",
   "metadata": {},
   "source": [
    "## Exercise 5: Round numbers"
   ]
  },
  {
   "cell_type": "markdown",
   "metadata": {},
   "source": [
    "A round number is a number that **ends** in 0. So 10, 150, 230, 145000 are examples of round numbers. 199, 208, 10345, 32 are not round numbers.  \n",
    "Write code to ask the user to enter an integer number. Then check if the user has entered a round number or not, and display this."
   ]
  },
  {
   "cell_type": "code",
   "execution_count": null,
   "metadata": {},
   "outputs": [],
   "source": [
    "# # You can write your code below this line or in a new code cell\n",
    "\n",
    "\n",
    "\n",
    "\n",
    "\n",
    "\n",
    "\n"
   ]
  },
  {
   "cell_type": "markdown",
   "metadata": {},
   "source": [
    "## Exercise 5: Palindromes"
   ]
  },
  {
   "cell_type": "markdown",
   "metadata": {},
   "source": [
    "1. Ask the user to enter a word or a sentence (without any punctuation characters)\n",
    "2. Convert everything that the user enters into lowercase (kleine letters)\n",
    "3. Remove all the spaces from the string (hint: use the .replace() method)\n",
    "3. Check if the converted string is a palindrome. A palindrome reads the same way forwards as well as backwards. (hint: you could convert the string into a list of characters, then use the Python built-in function reversed() to reverse the order of characters. Alternately, you could use list indexing to check this.)\n",
    "\n",
    "**Example of outputs:**  \n",
    "Enter a word or a sentence: Madam  \n",
    "You entered a palindrome!  \n",
    "\n",
    "Enter a word or a sentence: Taco cat  \n",
    "You entered a palindrome!\n",
    "\n",
    "Enter a word or a sentence: Not a palindrome  \n",
    "You did not enter a palindrome!"
   ]
  },
  {
   "cell_type": "code",
   "execution_count": null,
   "metadata": {},
   "outputs": [],
   "source": [
    "# # You can write your code below this line or in a new code cell\n",
    "\n",
    "\n",
    "\n"
   ]
  },
  {
   "cell_type": "markdown",
   "metadata": {},
   "source": [
    "## Exercise 6: print this pattern in Python, using a nested for-loop:\n",
    "\n",
    "  \n",
    " @  \n",
    " @ @  \n",
    " @ @ @  \n",
    " @ @ @ @  "
   ]
  },
  {
   "cell_type": "code",
   "execution_count": null,
   "metadata": {},
   "outputs": [],
   "source": [
    "# # You can write your code below this line or in a new code cell\n",
    "\n",
    "\n",
    "\n",
    "\n",
    "\n",
    "\n",
    "\n"
   ]
  },
  {
   "cell_type": "markdown",
   "metadata": {},
   "source": [
    "## Exercise 7: Encoded image"
   ]
  },
  {
   "cell_type": "markdown",
   "metadata": {},
   "source": [
    "Download the image here [encoded_img.jpg](https://surfdrive.surf.nl/files/index.php/s/bSyME0EfOm5CB0X/download).\n",
    "Take a look at the image. Doesn't it look weird?  \n",
    "\n",
    "This image is actually an encoded image that is made of three separate individual images. Remember that color images in Python are made of three color channels - one for blue, one for green and one for red? What you see here is actually 3 black-and-white images, a different one on each color channel!  \n",
    "\n",
    "Upload this image into your Colab workspace. Now read this image into memory. You can use any library you like for this, but I recommend using the OpenCV library (cv2). If you use cv2, you will also need the numpy library.  \n",
    "\n",
    "Your task is simply to separate these three individual images, and display each image individually. When you do this, they actually spell out a message. Can you find out what the message is?  \n",
    "  \n",
    "**Hint 1:**  Use the cv2 library and cv2_imshow() function from colab patches, if you are running this on Colab. You can see how to do this in notebook 3 of the course.  "
   ]
  },
  {
   "cell_type": "code",
   "execution_count": null,
   "metadata": {},
   "outputs": [],
   "source": [
    "## ToDo: Write your code here, to read the image into memory, decode it and display the 3 individual images.\n",
    "\n",
    "\n",
    "\n",
    "\n"
   ]
  },
  {
   "cell_type": "markdown",
   "metadata": {},
   "source": [
    "## Exercise 8: Password hack"
   ]
  },
  {
   "cell_type": "markdown",
   "metadata": {},
   "source": [
    "Click on this link to download a file named [username_password.txt](https://surfdrive.surf.nl/files/index.php/s/4o6KIgrjzJBvnzy/download). Upload this file into Colab and keep it in the same directory as this notebook. You have to do the following:  \n",
    "* Read the file into memory, as a list of lines  \n",
    "* Remove the \\n (newline) character from each of the lines you just read into memory. (see Hint 1 for this)\n",
    "* Each line of the file contains a term followed by a value. For example - WEBSITE:www.juveri.com USER NAME:Abigail Jesse. Extract only the lines with USER NAME or PASSWORD in them and store these in two separate lists. So you now have one list with all the USER NAME lines and the other list with all the PASSWORD lines. (see hint 2)\n",
    "* Remove the \"USER NAME:\" part of the string and the \"PASSWORD:\" part of the string in both lists. Now you should be left with just the actual user names and passwords in both lists. (see Hint 3)\n",
    "* Now from these new lists, create a Python dictionary. The keys of this dictionary should be the user names, and the values should be the password. (see hint 4)  \n",
    "* Display this dictionary. If you have done it correctly, the results should look something like this:  \n",
    "{'Abigail Jesse': '@^[;LmqH9C*ayb_a', 'Imani Hurst': 'rYF7s8wm8]}\\\\F-Y_', 'Charlee Graham': \"3WQdQ/'<b(<q>J?D\", 'Jared Leake': '@]=/jD`U!QW-~7)V', 'Erik Coffman': '?6f,.TKZ+WP\\\\Wy/F'}\n",
    "  \n",
    "**Hint 1:** There are many ways to remove the \\n character. One way is to use the .rstrip() method. Another way could be to just delete the last character from each line. See what's easiest for you. Since you are doing this on a list of lines, perhaps list comprehension will make the code a lot more efficient.    \n",
    "    \n",
    "**Hint 2:** List comprehension is the most efficient way of making a new list from an old list. Check the elements of the list to see if the string \"USER NAME\" is present for the first list, and check for the string \"PASSWORD\" for the second list.    \n",
    "    \n",
    "**Hint 3:** You can remove something from a string using the .replace() method. You will have to do this on all elements of the lists so remember list comprehension.  \n",
    "    \n",
    "**Hint 4:** You are using two lists together to make the dictionary. Remember in Notebook 1 we saw how to use the zip() function to iterate over two lists at the same time? Also remember dictionary comprehension.    "
   ]
  },
  {
   "cell_type": "code",
   "execution_count": null,
   "metadata": {},
   "outputs": [],
   "source": [
    "## ToDo: Complete the code here\n",
    "# Remember - read the file as a list of lines. Remove the \\n character from the end of each line.\n",
    "\n",
    "\n",
    "\n",
    "## Create two new lists from this list of lines.\n",
    "# The first list contains USER NAME lines\n",
    "# The second list contains PASSWORD lines\n",
    "\n",
    "\n",
    "\n",
    "\n",
    "## Remove the \"USER NAME:\" part of the strings and the \"PASSWORD:\" part of the strings in the two lists\n",
    "# This will leave you with just the actual user names and passwords\n",
    "\n",
    "\n",
    "\n",
    "\n",
    "## Make a dictionary from these two lists. The key is the user name and the value is the password.\n",
    "\n"
   ]
  }
 ],
 "metadata": {
  "kernelspec": {
   "display_name": "Python 3",
   "language": "python",
   "name": "python3"
  },
  "language_info": {
   "codemirror_mode": {
    "name": "ipython",
    "version": 3
   },
   "file_extension": ".py",
   "mimetype": "text/x-python",
   "name": "python",
   "nbconvert_exporter": "python",
   "pygments_lexer": "ipython3",
   "version": "3.6.9"
  }
 },
 "nbformat": 4,
 "nbformat_minor": 2
}
