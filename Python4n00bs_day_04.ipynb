{
 "cells": [
  {
   "cell_type": "markdown",
   "metadata": {},
   "source": [
    "# Python for n00bs - Day 4"
   ]
  },
  {
   "cell_type": "markdown",
   "metadata": {},
   "source": [
    "## Introduction to Object Oriented Programming (OOP)\n",
    "Welcome to day 4 of programming with Python - the final session! My name is Vikram Mark Radhakrishnan. You can find me on [LinkedIn](https://www.linkedin.com/in/vikram-mark-radhakrishnan-90038660/), or reach me via email at radhakrishnan@strw.leidenuniv.nl"
   ]
  },
  {
   "cell_type": "markdown",
   "metadata": {},
   "source": [
    "### 1. OOPs I did it again!\n",
    "Today, we are now going to look at something that can make your code a lot more efficient, modular, and reusable - Object Oriented Programming (OOP). We have already seen examples of \"objects\" in Python. Strings, lists, dictionaries, etc are all objects, that have associated attributes and methods. We refer to these as primitive data structures. We are now going to look into how we can create our own objects in Python and why this is useful.  \n",
    "  \n",
    "First let's understand what a \"class\" is. Essentially, a class is a blueprint, or prototype of an object. "
   ]
  },
  {
   "cell_type": "code",
   "execution_count": 2,
   "metadata": {},
   "outputs": [],
   "source": [
    "class Store:\n",
    "    \n",
    "    # The initializer method. You never explicitly call this method, it runs when an object is instantiated\n",
    "    def __init__(self, money, **items):\n",
    "        self.money = money\n",
    "        self.products = items\n",
    "    \n",
    "    def buy(self):\n",
    "        pass\n",
    "    \n",
    "    def sell(self):\n",
    "        pass"
   ]
  },
  {
   "cell_type": "markdown",
   "metadata": {},
   "source": [
    "When you create an object from a class, you are essentially using the blueprints provided to you by the class to create something specific in Python. The process of creating an object from a class is called instantiation. A class may have variables specific to it, called attributes, and functions specific to it, called methods. You can instantiate multiple objects from the same class, and each of them uses their own personal copy of the attributes and methods defined in the class. How does an object know that an attribute it uses belongs to exclusively that object? That's what the \"self\" qualifier is for. Every variable in the class that begins with a self. inside the class, becomes an attribute exclusively for the object once it is instantiated. "
   ]
  },
  {
   "cell_type": "code",
   "execution_count": 3,
   "metadata": {},
   "outputs": [],
   "source": [
    "a_general_store = Store(100, bread=10, chicken=45)\n",
    "a_clothes_store = Store(500, shirts=5, pants=12)"
   ]
  },
  {
   "cell_type": "code",
   "execution_count": 5,
   "metadata": {},
   "outputs": [
    {
     "name": "stdout",
     "output_type": "stream",
     "text": [
      "100\n",
      "500\n"
     ]
    }
   ],
   "source": [
    "print(a_general_store.money)\n",
    "print(a_clothes_store.money)"
   ]
  },
  {
   "cell_type": "markdown",
   "metadata": {},
   "source": [
    "Notice how each object has been instantiated from the same class but has its own copy of attributes."
   ]
  },
  {
   "cell_type": "markdown",
   "metadata": {},
   "source": [
    "You can build on top of existing classes, to give them more attributes, more methods, and to improve them or make them more specific."
   ]
  },
  {
   "cell_type": "code",
   "execution_count": null,
   "metadata": {},
   "outputs": [],
   "source": [
    "# A class that inherits from the Store class. It extends the buy() and a sell() method polymorphically\n",
    "class groceryStore(Store):\n",
    "    def __init__(self, money, **items):\n",
    "        super().__init__(money, **items)\n",
    "    \n",
    "    def buy(self, item):\n",
    "        if item in self.products.keys():\n",
    "            self.products[item] += 1\n",
    "        else:\n",
    "            self.products[item] = 1\n",
    "        \n",
    "        self.money -= 1\n",
    "    \n",
    "    def sell(self, item):\n",
    "        if item in self.products.keys() and self.products[item] > 0:\n",
    "            self.products[item] -= 1\n",
    "            self.money += 1\n",
    "        else:\n",
    "            print(\"Item out of stock\")"
   ]
  },
  {
   "cell_type": "code",
   "execution_count": null,
   "metadata": {},
   "outputs": [],
   "source": [
    "# This class inherits from Store, extends the buy() and sell() method polymorphically, and has a trade() method\n",
    "class fashionStore(Store):\n",
    "    def __init__(self, money, **items):\n",
    "        super().__init__(money, **items)\n",
    "    \n",
    "    def buy(self, item):\n",
    "        if item in self.products.keys():\n",
    "            self.products[item] += 1\n",
    "        else:\n",
    "            self.products[item] = 1\n",
    "        \n",
    "        self.money -= 100\n",
    "    \n",
    "    def sell(self, item):\n",
    "        if item in self.products.keys() and self.products[item] > 0:\n",
    "            self.products[item] -= 1\n",
    "            self.money += 100\n",
    "        else:\n",
    "            print(\"Item out of stock\")\n",
    "    \n",
    "    def trade(self, item1, item2):\n",
    "        if item1 in self.products.keys() and self.products[item1] > 0:\n",
    "            self.products[item1] -= 1\n",
    "            \n",
    "            if item2 in self.products.keys():\n",
    "                self.products[item2] += 1\n",
    "            else:\n",
    "                self.products[item2] = 1\n",
    "        else:\n",
    "            print(\"Item out of stock\")"
   ]
  },
  {
   "cell_type": "markdown",
   "metadata": {},
   "source": [
    "**ToDo:** Make a new class called autoStore. This class inherits from the Store class. Overwrite the buy and sell methods with a different value for the money transfer. Add a new method called repair, which takes an item as its argument. If the item exists, the store money goes down by 1000. If the item does not exist, the store money remains the same, and a message is printed."
   ]
  },
  {
   "cell_type": "markdown",
   "metadata": {},
   "source": [
    "To appreciate the power of OOP, we have to understand its underlying features:\n",
    "* Encapsulation\n",
    "* Inheritance\n",
    "* Polymorphism\n",
    "* Abstraction"
   ]
  },
  {
   "cell_type": "markdown",
   "metadata": {},
   "source": [
    "### 2. Wrapping up\n",
    "You've learned a lot today! You now have all the skills to write some pretty powerful code in Python. You will soon put these skills to the test when you work on your projects. Some information you might find useful for your future experiments in programming:\n",
    "\n",
    "#### Python Integrated Development Environments (IDEs):\n",
    "We used Google Colab during this workshop, which provided us with a powerful virtual machine and a Python-notebook environment to code in. However if you wish to run code on your own computers, you would have to install Python on your computers, and use an editor to write your code. There are some highly user-friendly editors out there, called Integrated Development Environments (IDEs), which provide you with several features. Look up [PyCharm](https://www.jetbrains.com/pycharm/), [Spyder](https://www.spyder-ide.org/), and [Jupyter Notebooks](https://jupyter.org/) (the editor most similar to the one we are using right now).\n",
    "\n",
    "#### Further resources:\n",
    "You have access to the Python notebook we worked with today, and you can also use these resources to further your knowledge of Python programming and become more proficient.  \n",
    "1. [Python for Everybody Specialization](https://www.coursera.org/learn/python): A series of online courses offered by the University of Michigan, which starts from the absolute basics of programming, and takes you to a high level of proficiency. It is comprehensive, yet easy to follow.\n",
    "2. [Datacamp](https://www.datacamp.com/): A website with multiple online courses on various topics, including Python programming, fundamentals of data science, and machine learning.\n",
    "3. [Complete Python Bootcamp](https://www.udemy.com/complete-python-bootcamp/): A course that covers several concepts in Python, which can be completed in a few days to a week or two of serious study."
   ]
  }
 ],
 "metadata": {
  "kernelspec": {
   "display_name": "Python [conda env:hcipy] *",
   "language": "python",
   "name": "conda-env-hcipy-py"
  },
  "language_info": {
   "codemirror_mode": {
    "name": "ipython",
    "version": 3
   },
   "file_extension": ".py",
   "mimetype": "text/x-python",
   "name": "python",
   "nbconvert_exporter": "python",
   "pygments_lexer": "ipython3",
   "version": "3.7.4"
  }
 },
 "nbformat": 4,
 "nbformat_minor": 2
}
