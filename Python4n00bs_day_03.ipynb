{
 "cells": [
  {
   "cell_type": "markdown",
   "metadata": {},
   "source": [
    "# Python for n00bs - Day 3"
   ]
  },
  {
   "cell_type": "markdown",
   "metadata": {},
   "source": [
    "## Useful Python libraries and writing your own functions\n",
    "Welcome to day 3 of programming with Python! My name is Vikram Mark Radhakrishnan. You can find me on [LinkedIn](https://www.linkedin.com/in/vikram-mark-radhakrishnan-90038660/), or reach me via email at radhakrishnan@strw.leidenuniv.nl"
   ]
  },
  {
   "cell_type": "markdown",
   "metadata": {},
   "source": [
    "### 1. The NumPy library - a standard library for scientific computing\n",
    "One of the most useful libraries, that is used in many, many applications, is the [NumPy](https://numpy.org/) library. The NumPy library is ubiquitous in data science, as well as a whole bunch of other fields. It enables powerful computing with N-dimensional arrays, and faster calculations due to storage efficient data structures.From the Numpy website:\n",
    "\n",
    "\"NumPy is the fundamental package for scientific computing with Python. It contains among other things:\n",
    "* a powerful N-dimensional array object\n",
    "* sophisticated (broadcasting) functions\n",
    "* tools for integrating C/C++ and Fortran code\n",
    "* useful linear algebra, Fourier transform, and random number capabilities\"\n",
    "\n",
    "We use numpy with image analysis, with data engineering, and with many other scientific applications.\n",
    "\n",
    "Installing NumPy is very simple. Use the Python package management system \"pip\" as follows:  \n",
    "pip install numpy\n",
    "\n",
    "However, if you are using Google Colab, there is no need to install numpy, as the virtual machine provided to you already has this useful package installed."
   ]
  },
  {
   "cell_type": "code",
   "execution_count": null,
   "metadata": {},
   "outputs": [],
   "source": [
    "import numpy as np"
   ]
  },
  {
   "cell_type": "markdown",
   "metadata": {},
   "source": [
    "The heart of numpy is the n-dimensional array. A single element array is known as a scalar. A one dimensional array is a vector. Arrays with 2 dimensions are called matrices, and an array with 3 or more dimensions is a tensor."
   ]
  },
  {
   "cell_type": "code",
   "execution_count": null,
   "metadata": {},
   "outputs": [],
   "source": [
    "scalar = np.random.randint(0, 9, ) # Notice there is a comma implying another argument, but the argument is blank\n",
    "print(\"This is a scalar:\")\n",
    "print(scalar)\n",
    "print()\n",
    "\n",
    "vector = np.random.randint(0, 9, (3))\n",
    "print(\"This is a vector:\")\n",
    "print(vector)\n",
    "print()\n",
    "\n",
    "matrix = np.random.randint(0, 9, (2, 2))\n",
    "print(\"This is a matrix:\")\n",
    "print(matrix)\n",
    "print()\n",
    "\n",
    "tensor = np.random.randint(0, 9, (3, 3, 2))\n",
    "print(\"This is a tensor:\")\n",
    "print(tensor)\n",
    "print()"
   ]
  },
  {
   "cell_type": "markdown",
   "metadata": {},
   "source": [
    "**Mathematics with NumPy:**  \n",
    "NumPy arrays can be added, subtracted, and multiplied with each other. They can also be operated on by matrix operations such as transposes, inverses, and matrix multiplication. Let's see some examples."
   ]
  },
  {
   "cell_type": "code",
   "execution_count": null,
   "metadata": {},
   "outputs": [],
   "source": [
    "A = np.array([[1, 2], [3, 4]])\n",
    "B = np.array([[4, 3], [2, 1]])\n",
    "\n",
    "S = A + B\n",
    "D = A - B\n",
    "P = A * B\n",
    "MP = A @ B\n",
    "T = A.T\n",
    "\n",
    "# Another way of making a matrix product is by using the np.dot method\n",
    "MP2 = np.dot(A, B)\n",
    "\n",
    "print(\"A is:\")\n",
    "print(A)\n",
    "print()\n",
    "\n",
    "print(\"B is:\")\n",
    "print(B)\n",
    "print()\n",
    "\n",
    "print(\"S is:\")\n",
    "print(S)\n",
    "print()\n",
    "\n",
    "print(\"D is:\")\n",
    "print(D)\n",
    "print()\n",
    "\n",
    "print(\"P is:\")\n",
    "print(P)\n",
    "print()\n",
    "\n",
    "print(\"MP is:\")\n",
    "print(MP)\n",
    "print()\n",
    "\n",
    "print(\"T is:\")\n",
    "print(T)\n",
    "print()"
   ]
  },
  {
   "cell_type": "markdown",
   "metadata": {},
   "source": [
    "**ToDo:** Given a matrix A, check if the transpose of the matrix is equal to its inverse, i.e. A.A^t = I"
   ]
  },
  {
   "cell_type": "markdown",
   "metadata": {},
   "source": [
    "More useful NumPy methods:"
   ]
  },
  {
   "cell_type": "code",
   "execution_count": null,
   "metadata": {},
   "outputs": [],
   "source": [
    "ones_matrix = np.ones([2,2])\n",
    "zeros_matrix = np.zeros([2,2])\n",
    "empty_matrix = np.empty([2,2])\n",
    "full_matrix = np.full((2,2), 7)\n",
    "identity_matrix = np.eye(2)\n",
    "random_matrix = np.random.random((2,2))\n",
    "\n",
    "range_of_values = np.arange(1.3, 4.7, 0.2)"
   ]
  },
  {
   "cell_type": "markdown",
   "metadata": {},
   "source": [
    "**Slice, index, and reshape NumPy arrays:**  \n",
    "Accessing an element or a group of elements in a NumPy array is very similar to accessing elements in a Python list. Elements are indexed, with a starting index of 0. You can also select specific elements of an array, using a conditional statement, sort of like in list comprehension. You can view the dimensions of an array using the .shape() method, and you can change the dimensions of an existing array using the .reshape() method."
   ]
  },
  {
   "cell_type": "code",
   "execution_count": null,
   "metadata": {},
   "outputs": [],
   "source": [
    "numbers = np.array([[4, 8, 15], [16, 23, 42]])\n",
    "\n",
    "numbers[0,1:3]"
   ]
  },
  {
   "cell_type": "code",
   "execution_count": null,
   "metadata": {},
   "outputs": [],
   "source": [
    "bignumbers = numbers[numbers > 20]\n",
    "bignumbers"
   ]
  },
  {
   "cell_type": "code",
   "execution_count": null,
   "metadata": {},
   "outputs": [],
   "source": [
    "numbers.shape"
   ]
  },
  {
   "cell_type": "code",
   "execution_count": null,
   "metadata": {},
   "outputs": [],
   "source": [
    "numbers_newlook = numbers.reshape(3,2)\n",
    "numbers_newlook"
   ]
  },
  {
   "cell_type": "markdown",
   "metadata": {},
   "source": [
    "**ToDo:** Create a matrix of shape 4x4 and containing integers between 1 and 100. Select only the elements of this matrix that are even, and store them in a new numpy array."
   ]
  },
  {
   "cell_type": "markdown",
   "metadata": {},
   "source": [
    "One neat property of numpy arrays is broadcasting. If you have two arrays that are not of the same size, you can still add, subtract, multiply or divide them, provided that one of the two operands is a scalar, or at least one of the dimensions of the two arrays match. Here are some examples of broadcasting."
   ]
  },
  {
   "cell_type": "code",
   "execution_count": null,
   "metadata": {},
   "outputs": [],
   "source": [
    "# Multiplying a NumPy array with a scalar\n",
    "\n",
    "multimat = matrix * 2\n",
    "multimat"
   ]
  },
  {
   "cell_type": "code",
   "execution_count": null,
   "metadata": {},
   "outputs": [],
   "source": [
    "# Adding an array with smaller dimensions to an array with larger dimensions\n",
    "a = np.array([[0,0,0],[10,10,10],[20,20,20],[30,30,30]]) \n",
    "b = np.array([1,2,3])  \n",
    "   \n",
    "print(\"First array:\") \n",
    "print(a) \n",
    "print()  \n",
    "   \n",
    "print(\"Second array:\") \n",
    "print(b) \n",
    "print()  \n",
    "   \n",
    "print(\"Sum of arrays:\") \n",
    "print(a + b) "
   ]
  },
  {
   "cell_type": "markdown",
   "metadata": {},
   "source": [
    "**ToDo:** Make a new matrix which has a 1 in every position that had an odd element, and 0 in every position that had an even element in the matrix you used in the previous exercise."
   ]
  },
  {
   "cell_type": "markdown",
   "metadata": {},
   "source": [
    "**ToDo:** You have an array containing grades scored in 6 subjects, by 3 students. You want to calculate the average grade scored by each student. Look up the np.mean() method to see how you can do this. Then, you want to calculate the difference between the grade and the average grade for each subject, per student. How will you do this, using array broadcasting?"
   ]
  },
  {
   "cell_type": "code",
   "execution_count": null,
   "metadata": {},
   "outputs": [],
   "source": [
    "# Each column corresponds to a student, each number is the grade scored in a single subject\n",
    "grades = np.array([[ 7,  8,  8],\n",
    "                   [ 8,  9,  8],\n",
    "                   [ 7,  10, 8],\n",
    "                   [ 6,  7,  8],\n",
    "                   [ 8,  8,  7],\n",
    "                   [ 8,  7,  8]])\n",
    "\n",
    "# Over what axis should we take the mean?\n",
    "\n",
    "# Once we have the mean score per student, how do we calculate the difference with each subject?"
   ]
  },
  {
   "cell_type": "markdown",
   "metadata": {},
   "source": [
    "### 2. Working with image data\n",
    "A really neat library for reading in image files (for example .jpg or .png files) is OpenCV. This library is usually a bit of a pain to install, but lucky for us, it comes pre-installed on Google Colab!"
   ]
  },
  {
   "cell_type": "code",
   "execution_count": null,
   "metadata": {},
   "outputs": [],
   "source": [
    "import cv2"
   ]
  },
  {
   "cell_type": "code",
   "execution_count": null,
   "metadata": {},
   "outputs": [],
   "source": [
    "# Read image in Grayscale format\n",
    "testImage = cv2.imread(\"AI_Lab_One.jpeg\", 0)\n",
    "print(testImage)\n",
    "\n",
    "cv2.imshow(testImage)"
   ]
  },
  {
   "cell_type": "markdown",
   "metadata": {},
   "source": [
    "Experiment with your own images. Try reading in a color image and then displaying it."
   ]
  },
  {
   "cell_type": "code",
   "execution_count": null,
   "metadata": {},
   "outputs": [],
   "source": [
    "colorImage = cv2.imread(\"lena-color.jpg\", 1)\n",
    "cv2.imshow(img)"
   ]
  },
  {
   "cell_type": "markdown",
   "metadata": {},
   "source": [
    "What do you think is the problem here? Hint - it has to do with the order of the color channels."
   ]
  },
  {
   "cell_type": "code",
   "execution_count": null,
   "metadata": {},
   "outputs": [],
   "source": [
    "imgRGB = cv2.cvtColor(colorImage,cv2.COLOR_BGR2RGB)\n",
    "plt.imshow(img)"
   ]
  },
  {
   "cell_type": "markdown",
   "metadata": {},
   "source": [
    "**ToDo:** Can you use NumPy array indexing to correct the color channels, instead of the OpenCv method shown above?"
   ]
  },
  {
   "cell_type": "markdown",
   "metadata": {},
   "source": [
    "### 3. Try-ing to deal with errors\n",
    "The try... except statement in Python is useful code for handling errors. If you execute a code that you suspect might fail for some particular reason, or if you just want to make sure your code runs through till the end without failing at certain problem spots, you can enclose the tricky code in a try block, and if this code generates an error, the code in the following except block will be executed. Let's look at an example:"
   ]
  },
  {
   "cell_type": "code",
   "execution_count": null,
   "metadata": {},
   "outputs": [],
   "source": [
    "# Let's try to read a file that doesn't exist:\n",
    "try:\n",
    "    f = open(\"imaginaryfile.txt\", \"r\")\n",
    "    f.readline()\n",
    "except:\n",
    "    print(\"That didn't work! Maybe this file does not exist?\")"
   ]
  },
  {
   "cell_type": "markdown",
   "metadata": {},
   "source": [
    "**ToDo**: Write a snippet of code to enter two floating point numbers from a user and find their product. If the user enters something that is not a floating point number, print an error message."
   ]
  },
  {
   "cell_type": "markdown",
   "metadata": {},
   "source": [
    "### 4. Writing your own functions\n",
    "Sometimes we need to write a lot of code to do a single, repeatable task. In this case it is useful to write our own function, and replace that block of code with a function call."
   ]
  },
  {
   "cell_type": "markdown",
   "metadata": {},
   "source": [
    "A method is a function that is specific to a certain \"object\" in Python. We won't be covering classes and objects (Object Oriented Programming) in today's workshop though."
   ]
  },
  {
   "cell_type": "code",
   "execution_count": null,
   "metadata": {},
   "outputs": [],
   "source": [
    "def bmi_calculator(h, w):\n",
    "    bmi = w / (h ** 2)"
   ]
  },
  {
   "cell_type": "markdown",
   "metadata": {},
   "source": [
    "We can set default values for the parameters passed to a function. These default parameters will be overwritten if the user passes different values."
   ]
  },
  {
   "cell_type": "code",
   "execution_count": null,
   "metadata": {},
   "outputs": [],
   "source": [
    "def volume_of_cylinder(h=10, r=5):\n",
    "    vol = 3.14159 * r ** 2 * h"
   ]
  },
  {
   "cell_type": "markdown",
   "metadata": {},
   "source": [
    "Python also allows us to write functions that take in a variable number of arguments. There are two ways you can do this. You can pass a parameter called \\*args to the function, or/and a parameter called \\*\\*kwargs.  \n",
    "The former implies that you are passing a list of arguments, which in the function will be accessed as a list named args. The latter implies that you are passing a dictionary, which in the function will be accessed by kwargs. Let's take a look at some examples."
   ]
  },
  {
   "cell_type": "code",
   "execution_count": null,
   "metadata": {},
   "outputs": [],
   "source": [
    "def multiplier(*args):\n",
    "    result = 1\n",
    "    for num in args:\n",
    "        result *= num\n",
    "    \n",
    "    print(\"After multiplying all these numbers together we get: \" + str(result))"
   ]
  },
  {
   "cell_type": "code",
   "execution_count": null,
   "metadata": {},
   "outputs": [],
   "source": [
    "def display_stats(**kwargs):\n",
    "    for key, value in kwargs.items():\n",
    "        print(\"The \" + key + \" is \" + str(value))"
   ]
  },
  {
   "cell_type": "code",
   "execution_count": null,
   "metadata": {},
   "outputs": [],
   "source": [
    "display_stats(name=\"Vikram\", age=\"29\", job=\"PhD Student\", hobby=\"Python Instructor\")"
   ]
  },
  {
   "cell_type": "markdown",
   "metadata": {},
   "source": [
    "**ToDo:** Write a function that accepts a list of numbers, and takes the mean or median of these numbers, based on a boolean parameter called \"mean\". If mean is true, which it is by default, the function returns the arithmetic mean of the numbers. If mean is false, the function returns the median, i.e. the middle value of the sorted list."
   ]
  },
  {
   "cell_type": "markdown",
   "metadata": {},
   "source": [
    "### 5. Wrapping up\n",
    "You've learned a lot today! You now have all the skills to write some pretty powerful code in Python. You will soon put these skills to the test when you work on your projects. Some information you might find useful for your future experiments in programming:\n",
    "\n",
    "#### Python Integrated Development Environments (IDEs):\n",
    "We used Google Colab during this workshop, which provided us with a powerful virtual machine and a Python-notebook environment to code in. However if you wish to run code on your own computers, you would have to install Python on your computers, and use an editor to write your code. There are some highly user-friendly editors out there, called Integrated Development Environments (IDEs), which provide you with several features. Look up [PyCharm](https://www.jetbrains.com/pycharm/), [Spyder](https://www.spyder-ide.org/), and [Jupyter Notebooks](https://jupyter.org/) (the editor most similar to the one we are using right now).\n",
    "\n",
    "#### Further resources:\n",
    "You have access to the Python notebook we worked with today, and you can also use these resources to further your knowledge of Python programming and become more proficient.  \n",
    "1. [Python for Everybody Specialization](https://www.coursera.org/learn/python): A series of online courses offered by the University of Michigan, which starts from the absolute basics of programming, and takes you to a high level of proficiency. It is comprehensive, yet easy to follow.\n",
    "2. [Datacamp](https://www.datacamp.com/): A website with multiple online courses on various topics, including Python programming, fundamentals of data science, and machine learning.\n",
    "3. [Complete Python Bootcamp](https://www.udemy.com/complete-python-bootcamp/): A course that covers several concepts in Python, which can be completed in a few days to a week or two of serious study."
   ]
  }
 ],
 "metadata": {
  "kernelspec": {
   "display_name": "Python 3",
   "language": "python",
   "name": "python3"
  },
  "language_info": {
   "codemirror_mode": {
    "name": "ipython",
    "version": 3
   },
   "file_extension": ".py",
   "mimetype": "text/x-python",
   "name": "python",
   "nbconvert_exporter": "python",
   "pygments_lexer": "ipython3",
   "version": "3.6.9"
  }
 },
 "nbformat": 4,
 "nbformat_minor": 2
}
