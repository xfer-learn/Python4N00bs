{
  "nbformat": 4,
  "nbformat_minor": 0,
  "metadata": {
    "kernelspec": {
      "display_name": "Python 3",
      "language": "python",
      "name": "python3"
    },
    "language_info": {
      "codemirror_mode": {
        "name": "ipython",
        "version": 3
      },
      "file_extension": ".py",
      "mimetype": "text/x-python",
      "name": "python",
      "nbconvert_exporter": "python",
      "pygments_lexer": "ipython3",
      "version": "3.6.9"
    },
    "colab": {
      "name": "Python4n00bs_day_03.ipynb",
      "provenance": []
    }
  },
  "cells": [
    {
      "cell_type": "markdown",
      "metadata": {
        "id": "_WbSukbB9IMq"
      },
      "source": [
        "# Python for n00bs - Day 3"
      ]
    },
    {
      "cell_type": "markdown",
      "metadata": {
        "id": "SViHoAJ19IMs"
      },
      "source": [
        "## Useful Python libraries and writing your own functions\n",
        "Welcome to day 3 of programming with Python! My name is Vikram Mark Radhakrishnan. You can find me on [LinkedIn](https://www.linkedin.com/in/vikram-mark-radhakrishnan-90038660/), or reach me via email at radhakrishnan@strw.leidenuniv.nl"
      ]
    },
    {
      "cell_type": "markdown",
      "metadata": {
        "id": "oPIrEE0z9IMs"
      },
      "source": [
        "### 1. The NumPy library - a standard library for scientific computing\n",
        "One of the most useful libraries, that is used in many, many applications, is the [NumPy](https://numpy.org/) library. The NumPy library is ubiquitous in data science, as well as a whole bunch of other fields. It enables powerful computing with N-dimensional arrays, and faster calculations due to storage efficient data structures.From the Numpy website:\n",
        "\n",
        "\"NumPy is the fundamental package for scientific computing with Python. It contains among other things:\n",
        "* a powerful N-dimensional array object\n",
        "* sophisticated (broadcasting) functions\n",
        "* tools for integrating C/C++ and Fortran code\n",
        "* useful linear algebra, Fourier transform, and random number capabilities\"\n",
        "\n",
        "We use numpy with image analysis, with data engineering, and with many other scientific applications.\n",
        "\n",
        "Installing NumPy is very simple. Use the Python package management system \"pip\" as follows:  \n",
        "pip install numpy\n",
        "\n",
        "However, if you are using Google Colab, there is no need to install numpy, as the virtual machine provided to you already has this useful package installed."
      ]
    },
    {
      "cell_type": "code",
      "metadata": {
        "id": "tV1kZxU-9IMt"
      },
      "source": [
        "import numpy as np"
      ],
      "execution_count": null,
      "outputs": []
    },
    {
      "cell_type": "markdown",
      "metadata": {
        "id": "NCMwqkmZ9IMt"
      },
      "source": [
        "The heart of numpy is the n-dimensional array. A single element array is known as a scalar. A one dimensional array is a vector. Arrays with 2 dimensions are called matrices, and an array with 3 or more dimensions is a tensor."
      ]
    },
    {
      "cell_type": "code",
      "metadata": {
        "id": "NVvjOwkr9IMt"
      },
      "source": [
        "scalar = np.random.randint(0, 9, ) # Notice there is a comma implying another argument, but the argument is blank\n",
        "print(\"This is a scalar:\")\n",
        "print(scalar)\n",
        "print()\n",
        "\n",
        "vector = np.random.randint(0, 9, (3))\n",
        "print(\"This is a vector:\")\n",
        "print(vector)\n",
        "print()\n",
        "\n",
        "matrix = np.random.randint(0, 9, (2, 2))\n",
        "print(\"This is a matrix:\")\n",
        "print(matrix)\n",
        "print()\n",
        "\n",
        "tensor = np.random.randint(0, 9, (3, 3, 2))\n",
        "print(\"This is a tensor:\")\n",
        "print(tensor)\n",
        "print()"
      ],
      "execution_count": null,
      "outputs": []
    },
    {
      "cell_type": "markdown",
      "metadata": {
        "id": "z4KzlvT19IMu"
      },
      "source": [
        "**Mathematics with NumPy:**  \n",
        "NumPy arrays can be added, subtracted, and multiplied with each other. They can also be operated on by matrix operations such as transposes, inverses, and matrix multiplication. Let's see some examples."
      ]
    },
    {
      "cell_type": "code",
      "metadata": {
        "id": "ZkuBC1_F9IMu"
      },
      "source": [
        "A = np.array([[1, 2], [3, 4]])\n",
        "B = np.array([[4, 3], [2, 1]])\n",
        "\n",
        "S = A + B\n",
        "D = A - B\n",
        "P = A * B\n",
        "MP = A @ B\n",
        "T = A.T\n",
        "\n",
        "# Another way of making a matrix product is by using the np.dot method\n",
        "MP2 = np.dot(A, B)\n",
        "\n",
        "print(\"A is:\")\n",
        "print(A)\n",
        "print()\n",
        "\n",
        "print(\"B is:\")\n",
        "print(B)\n",
        "print()\n",
        "\n",
        "print(\"S is:\")\n",
        "print(S)\n",
        "print()\n",
        "\n",
        "print(\"D is:\")\n",
        "print(D)\n",
        "print()\n",
        "\n",
        "print(\"P is:\")\n",
        "print(P)\n",
        "print()\n",
        "\n",
        "print(\"MP is:\")\n",
        "print(MP)\n",
        "print()\n",
        "\n",
        "print(\"T is:\")\n",
        "print(T)\n",
        "print()"
      ],
      "execution_count": null,
      "outputs": []
    },
    {
      "cell_type": "markdown",
      "metadata": {
        "id": "D12w_Ypg9IMv"
      },
      "source": [
        "**ToDo:** Given a matrix A, check if the transpose of the matrix is equal to its inverse, i.e. A.A^t = I"
      ]
    },
    {
      "cell_type": "markdown",
      "metadata": {
        "id": "-GnuuqES9IMv"
      },
      "source": [
        "More useful NumPy methods:"
      ]
    },
    {
      "cell_type": "code",
      "metadata": {
        "id": "AhOC0MKm9IMv"
      },
      "source": [
        "ones_matrix = np.ones([2,2])\n",
        "zeros_matrix = np.zeros([2,2])\n",
        "empty_matrix = np.empty([2,2])\n",
        "full_matrix = np.full((2,2), 7)\n",
        "identity_matrix = np.eye(2)\n",
        "random_matrix = np.random.random((2,2))\n",
        "\n",
        "range_of_values = np.arange(1.3, 4.7, 0.2)"
      ],
      "execution_count": null,
      "outputs": []
    },
    {
      "cell_type": "markdown",
      "metadata": {
        "id": "X9_AD-sK9IMv"
      },
      "source": [
        "**Slice, index, and reshape NumPy arrays:**  \n",
        "Accessing an element or a group of elements in a NumPy array is very similar to accessing elements in a Python list. Elements are indexed, with a starting index of 0. You can also select specific elements of an array, using a conditional statement, sort of like in list comprehension. You can view the dimensions of an array using the .shape() method, and you can change the dimensions of an existing array using the .reshape() method."
      ]
    },
    {
      "cell_type": "code",
      "metadata": {
        "id": "El4dhaEk9IMv"
      },
      "source": [
        "numbers = np.array([[4, 8, 15], [16, 23, 42]])\n",
        "\n",
        "numbers[0,1:3]"
      ],
      "execution_count": null,
      "outputs": []
    },
    {
      "cell_type": "code",
      "metadata": {
        "id": "OQiTj03j9IMw"
      },
      "source": [
        "bignumbers = numbers[numbers > 20]\n",
        "bignumbers"
      ],
      "execution_count": null,
      "outputs": []
    },
    {
      "cell_type": "code",
      "metadata": {
        "id": "aOpvFMnH9IMw"
      },
      "source": [
        "numbers.shape"
      ],
      "execution_count": null,
      "outputs": []
    },
    {
      "cell_type": "code",
      "metadata": {
        "id": "fIdMhJUf9IMw"
      },
      "source": [
        "numbers_newlook = numbers.reshape(3,2)\n",
        "numbers_newlook"
      ],
      "execution_count": null,
      "outputs": []
    },
    {
      "cell_type": "markdown",
      "metadata": {
        "id": "3FBAJGpG9IMw"
      },
      "source": [
        "**ToDo:** Create a matrix of shape 4x4 and containing integers between 1 and 100. Select only the elements of this matrix that are even, and store them in a new numpy array."
      ]
    },
    {
      "cell_type": "markdown",
      "metadata": {
        "id": "7Wjn3WEv9IMx"
      },
      "source": [
        "One neat property of numpy arrays is broadcasting. If you have two arrays that are not of the same size, you can still add, subtract, multiply or divide them, provided that one of the two operands is a scalar, or at least one of the dimensions of the two arrays match. Here are some examples of broadcasting."
      ]
    },
    {
      "cell_type": "code",
      "metadata": {
        "id": "El8TRfuu9IMx"
      },
      "source": [
        "# Multiplying a NumPy array with a scalar\n",
        "\n",
        "multimat = matrix * 2\n",
        "multimat"
      ],
      "execution_count": null,
      "outputs": []
    },
    {
      "cell_type": "code",
      "metadata": {
        "id": "f9COTEsg9IMx"
      },
      "source": [
        "# Adding an array with smaller dimensions to an array with larger dimensions\n",
        "a = np.array([[0,0,0],[10,10,10],[20,20,20],[30,30,30]]) \n",
        "b = np.array([1,2,3])  \n",
        "   \n",
        "print(\"First array:\") \n",
        "print(a) \n",
        "print()  \n",
        "   \n",
        "print(\"Second array:\") \n",
        "print(b) \n",
        "print()  \n",
        "   \n",
        "print(\"Sum of arrays:\") \n",
        "print(a + b) "
      ],
      "execution_count": null,
      "outputs": []
    },
    {
      "cell_type": "markdown",
      "metadata": {
        "id": "KtrM_ruR9IMx"
      },
      "source": [
        "**ToDo:** Make a new matrix which has a 1 in every position that had an odd element, and 0 in every position that had an even element in the matrix you used in the previous exercise."
      ]
    },
    {
      "cell_type": "markdown",
      "metadata": {
        "id": "ckPHVpLs9IMx"
      },
      "source": [
        "**ToDo:** You have an array containing grades scored in 6 subjects, by 3 students. You want to calculate the average grade scored by each student. Look up the np.mean() method to see how you can do this. Then, you want to calculate the difference between the grade and the average grade for each subject, per student. How will you do this, using array broadcasting?"
      ]
    },
    {
      "cell_type": "code",
      "metadata": {
        "id": "u6SYmoI89IMy"
      },
      "source": [
        "# Each column corresponds to a student, each number is the grade scored in a single subject\n",
        "grades = np.array([[ 7,  8,  8],\n",
        "                   [ 8,  9,  8],\n",
        "                   [ 7,  10, 8],\n",
        "                   [ 6,  7,  8],\n",
        "                   [ 8,  8,  7],\n",
        "                   [ 8,  7,  8]])\n",
        "\n",
        "# Over what axis should we take the mean?\n",
        "\n",
        "# Once we have the mean score per student, how do we calculate the difference with each subject?"
      ],
      "execution_count": null,
      "outputs": []
    },
    {
      "cell_type": "markdown",
      "metadata": {
        "id": "luDZGvoD9IMy"
      },
      "source": [
        "### 2. Working with image data\n",
        "A really neat library for reading in image files (for example .jpg or .png files) is OpenCV. This library is usually a bit of a pain to install, but lucky for us, it comes pre-installed on Google Colab!"
      ]
    },
    {
      "cell_type": "code",
      "metadata": {
        "id": "wExEEmdy9IMy"
      },
      "source": [
        "import cv2\n",
        "from google.colab.patches import cv2_imshow"
      ],
      "execution_count": null,
      "outputs": []
    },
    {
      "cell_type": "code",
      "metadata": {
        "id": "uYteIaHD9IMy"
      },
      "source": [
        "# Read image in Grayscale format\n",
        "testImage = cv2.imread(\"AI_Lab_One.jpeg\", 0)\n",
        "print(testImage)\n",
        "\n",
        "cv2_imshow(testImage)"
      ],
      "execution_count": null,
      "outputs": []
    },
    {
      "cell_type": "code",
      "metadata": {
        "id": "ZpwWKk4LCpRY"
      },
      "source": [
        "imS = cv2.resize(testImage, (300, 300))\n",
        "cv2_imshow(imS)"
      ],
      "execution_count": null,
      "outputs": []
    },
    {
      "cell_type": "markdown",
      "metadata": {
        "id": "MnC3YPLl9IMz"
      },
      "source": [
        "Experiment with your own images. Try reading in a color image and then displaying it."
      ]
    },
    {
      "cell_type": "code",
      "metadata": {
        "id": "Fl4CfaDG9IMz"
      },
      "source": [
        "colorImage = cv2.imread(\"lena-color.jpg\")\n",
        "cv2_imshow(colorImage)"
      ],
      "execution_count": null,
      "outputs": []
    },
    {
      "cell_type": "markdown",
      "metadata": {
        "id": "Cwtg-aiDDOuu"
      },
      "source": [
        "Images in Python are stored as numpy arrays. A black-and-white image is stored as a 2d array (matrix). A full color image is stored as 3, 2d arrays, (so a tensor) where each of the arrays represents a color channel (red, blue, and green)."
      ]
    },
    {
      "cell_type": "code",
      "metadata": {
        "id": "vG2Ig3CkDkOU"
      },
      "source": [
        "print(colorImage.shape)"
      ],
      "execution_count": null,
      "outputs": []
    },
    {
      "cell_type": "markdown",
      "metadata": {
        "id": "jbt9GN0iDqmD"
      },
      "source": [
        "Numpy operations can be performed on the image pixels just as you would on an ordinary numpy array."
      ]
    },
    {
      "cell_type": "code",
      "metadata": {
        "id": "cw5JmSZwEAdr"
      },
      "source": [
        "grayImage = np.mean(colorImage, axis=2)\n",
        "\n",
        "cv2_imshow(grayImage)"
      ],
      "execution_count": null,
      "outputs": []
    },
    {
      "cell_type": "code",
      "metadata": {
        "id": "edV0qResEH5z"
      },
      "source": [
        "grayImageFlip = grayImage.T\n",
        "\n",
        "cv2_imshow(grayImageFlip)"
      ],
      "execution_count": null,
      "outputs": []
    },
    {
      "cell_type": "markdown",
      "metadata": {
        "id": "OO4wTarR9IMz"
      },
      "source": [
        "### 3. Try-ing to deal with errors\n",
        "The try... except statement in Python is useful code for handling errors. If you execute a code that you suspect might fail for some particular reason, or if you just want to make sure your code runs through till the end without failing at certain problem spots, you can enclose the tricky code in a try block, and if this code generates an error, the code in the following except block will be executed. Let's look at an example:"
      ]
    },
    {
      "cell_type": "code",
      "metadata": {
        "id": "gVkJ4uOb9IMz"
      },
      "source": [
        "# Let's try to read a file that doesn't exist:\n",
        "try:\n",
        "    f = open(\"sample_data/mnist_train_small.csv\", \"r\")\n",
        "    print(f.readline())\n",
        "except:\n",
        "    print(\"That didn't work! Maybe this file does not exist?\")"
      ],
      "execution_count": null,
      "outputs": []
    },
    {
      "cell_type": "code",
      "metadata": {
        "id": "ZieCIqtJFjoh"
      },
      "source": [
        "f.close()"
      ],
      "execution_count": null,
      "outputs": []
    },
    {
      "cell_type": "markdown",
      "metadata": {
        "id": "i07_Btdv9IM0"
      },
      "source": [
        "**ToDo**: Write a snippet of code to enter two floating point numbers from a user and find their product. If the user enters something that is not a floating point number, print an error message."
      ]
    },
    {
      "cell_type": "markdown",
      "metadata": {
        "id": "17VMByKh9IM0"
      },
      "source": [
        "### 4. Writing your own functions\n",
        "Sometimes we need to write a lot of code to do a single, repeatable task. In this case it is useful to write our own function, and replace that block of code with a function call."
      ]
    },
    {
      "cell_type": "markdown",
      "metadata": {
        "id": "JbwoqW2M9IM0"
      },
      "source": [
        "A method is a function that is specific to a certain \"object\" in Python. We won't be covering classes and objects (Object Oriented Programming) in today's workshop though."
      ]
    },
    {
      "cell_type": "code",
      "metadata": {
        "id": "u1UU7FNY9IM0"
      },
      "source": [
        "def bmi_calculator(h, w):\n",
        "    bmi = w / (h ** 2)"
      ],
      "execution_count": null,
      "outputs": []
    },
    {
      "cell_type": "markdown",
      "metadata": {
        "id": "7hxrA7kY9IM0"
      },
      "source": [
        "We can set default values for the parameters passed to a function. These default parameters will be overwritten if the user passes different values."
      ]
    },
    {
      "cell_type": "code",
      "metadata": {
        "id": "PRDb5TDl9IM0"
      },
      "source": [
        "def volume_of_cylinder(h=10, r=5):\n",
        "    vol = 3.14159 * r ** 2 * h"
      ],
      "execution_count": null,
      "outputs": []
    },
    {
      "cell_type": "markdown",
      "metadata": {
        "id": "IdjBsZ8B9IM1"
      },
      "source": [
        "Python also allows us to write functions that take in a variable number of arguments. There are two ways you can do this. You can pass a parameter called \\*args to the function, or/and a parameter called \\*\\*kwargs.  \n",
        "The former implies that you are passing a list of arguments, which in the function will be accessed as a list named args. The latter implies that you are passing a dictionary, which in the function will be accessed by kwargs. Let's take a look at some examples."
      ]
    },
    {
      "cell_type": "code",
      "metadata": {
        "id": "4ERshOla9IM1"
      },
      "source": [
        "def multiplier(*args):\n",
        "    result = 1\n",
        "    for num in args:\n",
        "        result *= num\n",
        "    \n",
        "    print(\"After multiplying all these numbers together we get: \" + str(result))"
      ],
      "execution_count": null,
      "outputs": []
    },
    {
      "cell_type": "code",
      "metadata": {
        "id": "RYyPEHxD9IM1"
      },
      "source": [
        "def display_stats(**kwargs):\n",
        "    for key, value in kwargs.items():\n",
        "        print(\"The \" + key + \" is \" + str(value))"
      ],
      "execution_count": null,
      "outputs": []
    },
    {
      "cell_type": "code",
      "metadata": {
        "id": "MOTlxvlf9IM1"
      },
      "source": [
        "display_stats(name=\"Vikram\", age=\"29\", job=\"PhD Student\", hobby=\"Python Instructor\")"
      ],
      "execution_count": null,
      "outputs": []
    },
    {
      "cell_type": "markdown",
      "metadata": {
        "id": "Y7DJ9Exh9IM1"
      },
      "source": [
        "**ToDo:** Write a function that accepts a list of numbers, and takes the mean or median of these numbers, based on a boolean parameter called \"mean\". If mean is true, which it is by default, the function returns the arithmetic mean of the numbers. If mean is false, the function returns the median, i.e. the middle value of the sorted list."
      ]
    },
    {
      "cell_type": "markdown",
      "metadata": {
        "id": "jMBqKtb_9IM1"
      },
      "source": [
        "### 5. Wrapping up\n",
        "You've learned a lot today! You now have all the skills to write some pretty powerful code in Python. You will soon put these skills to the test when you work on your projects. Some information you might find useful for your future experiments in programming:\n",
        "\n",
        "#### Python Integrated Development Environments (IDEs):\n",
        "We used Google Colab during this workshop, which provided us with a powerful virtual machine and a Python-notebook environment to code in. However if you wish to run code on your own computers, you would have to install Python on your computers, and use an editor to write your code. There are some highly user-friendly editors out there, called Integrated Development Environments (IDEs), which provide you with several features. Look up [PyCharm](https://www.jetbrains.com/pycharm/), [Spyder](https://www.spyder-ide.org/), and [Jupyter Notebooks](https://jupyter.org/) (the editor most similar to the one we are using right now).\n",
        "\n",
        "#### Further resources:\n",
        "You have access to the Python notebook we worked with today, and you can also use these resources to further your knowledge of Python programming and become more proficient.  \n",
        "1. [Python for Everybody Specialization](https://www.coursera.org/learn/python): A series of online courses offered by the University of Michigan, which starts from the absolute basics of programming, and takes you to a high level of proficiency. It is comprehensive, yet easy to follow.\n",
        "2. [Datacamp](https://www.datacamp.com/): A website with multiple online courses on various topics, including Python programming, fundamentals of data science, and machine learning.\n",
        "3. [Complete Python Bootcamp](https://www.udemy.com/complete-python-bootcamp/): A course that covers several concepts in Python, which can be completed in a few days to a week or two of serious study."
      ]
    }
  ]
}