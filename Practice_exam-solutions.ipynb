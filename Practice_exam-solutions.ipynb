{
 "cells": [
  {
   "cell_type": "markdown",
   "metadata": {},
   "source": [
    "# Python for n00bs - practice exam"
   ]
  },
  {
   "cell_type": "markdown",
   "metadata": {},
   "source": [
    "This notebook contains exercises that will test the skills you have learned in the 4 workshops. Please add plenty of comments to your code to make it more understandable. If you are struggling with a question, break it down into smaller steps and write out a comment for each step."
   ]
  },
  {
   "cell_type": "markdown",
   "metadata": {},
   "source": [
    "## Exercise 0: An example of how this works"
   ]
  },
  {
   "cell_type": "markdown",
   "metadata": {},
   "source": [
    "This is an example exercise which has already been solved. This is just to show you how to use this notebook. The exercise is to make a list of numbers from 1 to 10."
   ]
  },
  {
   "cell_type": "code",
   "execution_count": null,
   "metadata": {},
   "outputs": [],
   "source": [
    "## ToDo: Make a list of numbers from 1 to 10 and call it numbers.\n",
    "\n",
    "numbers = list(range(1, 11))\n",
    "print(numbers)"
   ]
  },
  {
   "cell_type": "markdown",
   "metadata": {},
   "source": [
    "## Exercise 1: Correct the syntax errors "
   ]
  },
  {
   "cell_type": "markdown",
   "metadata": {},
   "source": [
    "Each of the following code cells contains a syntax error. Can you fix these errors so that the code runs as expected?"
   ]
  },
  {
   "cell_type": "code",
   "execution_count": null,
   "metadata": {},
   "outputs": [],
   "source": [
    "name = input(\"Enter your name: \")\n",
    "print(f\"Hello, {name}!\")"
   ]
  },
  {
   "cell_type": "code",
   "execution_count": null,
   "metadata": {},
   "outputs": [],
   "source": [
    "for num in range(1, 6):\n",
    "    print(f\"This is loop {num}\")"
   ]
  },
  {
   "cell_type": "code",
   "execution_count": null,
   "metadata": {},
   "outputs": [],
   "source": [
    "d1 = 5\n",
    "d2 = 4\n",
    "\n",
    "product = d1 * d2\n",
    "\n",
    "print(f\"The product of the numbers {d1} and {d2} is {product}\")"
   ]
  },
  {
   "cell_type": "code",
   "execution_count": null,
   "metadata": {},
   "outputs": [],
   "source": [
    "e1 = 15\n",
    "e2 = 17\n",
    "\n",
    "if e1 == e2:\n",
    "    print(f\"The numbers {e1} and {e2} are equal\")\n",
    "else:\n",
    "    print(f\"The numbers {e1} and {e2} are not equal\")"
   ]
  },
  {
   "cell_type": "markdown",
   "metadata": {},
   "source": [
    "## Exercise 2: working with lists"
   ]
  },
  {
   "cell_type": "markdown",
   "metadata": {},
   "source": [
    "1. Create this list in Python: [\"apples\", \"bananas\", \"cherry\", \"grapefruit\", \"watermelon\"]. \n",
    "2. Ask the user to enter the name of a fruit. \n",
    "3. Convert the string that the user enters into lower-case (kleine letters)\n",
    "4. Check if this already exists in the list. If it does, print \"The fruit is in the list!\"\n",
    "5. If it isn't already present in the list, add it to the list and print \"The fruit is added to the list!\""
   ]
  },
  {
   "cell_type": "code",
   "execution_count": null,
   "metadata": {},
   "outputs": [],
   "source": [
    "fruits = [\"apples\", \"bananas\", \"cherry\", \"grapefruit\", \"watermelon\"]\n",
    "\n",
    "usr_fruit = input(\"Enter the name of a fruit: \")\n",
    "\n",
    "usr_fruit_lower = usr_fruit.lower()\n",
    "\n",
    "if usr_fruit_lower in fruits:\n",
    "    print(\"The fruit is in the list!\")\n",
    "else:\n",
    "    fruits.append(usr_fruit_lower)\n",
    "    print(\"The fruit is added to the list!\")"
   ]
  },
  {
   "cell_type": "code",
   "execution_count": null,
   "metadata": {},
   "outputs": [],
   "source": [
    "print(fruits)"
   ]
  },
  {
   "cell_type": "markdown",
   "metadata": {},
   "source": [
    "## Exercise 3: find the sum of numbers entered by the user"
   ]
  },
  {
   "cell_type": "markdown",
   "metadata": {},
   "source": [
    "1. Create a while-loop. Inside the loop, ask the user to enter a number. Tell the user to enter 0 to exit the program.\n",
    "2. Keep adding the numbers that the user enters in the loop.\n",
    "3. If the user enters 0, exit the loop. Then print the total of the numbers."
   ]
  },
  {
   "cell_type": "code",
   "execution_count": null,
   "metadata": {},
   "outputs": [],
   "source": [
    "accumulator = 0\n",
    "\n",
    "while(True):\n",
    "    num = int(input(\"Enter a number (Press 0 to exit program): \"))\n",
    "    \n",
    "    if num == 0:\n",
    "        break\n",
    "    \n",
    "    accumulator += num\n",
    "    \n",
    "print(f\"The total of all the numbers you entered is {accumulator}\")"
   ]
  },
  {
   "cell_type": "markdown",
   "metadata": {},
   "source": [
    "## Exercise 4: strings in Python"
   ]
  },
  {
   "cell_type": "markdown",
   "metadata": {},
   "source": [
    "1. Ask the user to enter their full name (first name, middle name or names, and last name)\n",
    "2. Print out \"Hello, {first_name}!\"\n",
    "\n",
    "Example of output:  \n",
    "Enter your full name: Vikram Mark Radhakrishnan  \n",
    "Hello, Vikram!"
   ]
  },
  {
   "cell_type": "code",
   "execution_count": null,
   "metadata": {},
   "outputs": [],
   "source": [
    "full_name = input(\"Enter your name: \")\n",
    "\n",
    "names = full_name.split(\" \")\n",
    "\n",
    "print(f\"Hello, {names[0]}\")"
   ]
  },
  {
   "cell_type": "markdown",
   "metadata": {},
   "source": [
    "## Exercise 5: print this pattern in Python, using a nested for-loop:\n",
    "\n",
    "% % % % %  \n",
    "% % % %  \n",
    "% % %  \n",
    "% %  \n",
    "%  "
   ]
  },
  {
   "cell_type": "code",
   "execution_count": null,
   "metadata": {},
   "outputs": [],
   "source": [
    "for j in range(5, 0, -1):\n",
    "    for k in range(j):\n",
    "        print(\"%\", end=\"\")\n",
    "    print()"
   ]
  },
  {
   "cell_type": "markdown",
   "metadata": {},
   "source": [
    "## Exercise 6: Password check\n",
    "\n",
    "Ask the user to enter a password. The goal of this exercise is to check that the string entered is a good, strong password. The function checks the following things:  \n",
    "* The password contains at least one capital (hoofd) letter.\n",
    "* The password contains at least one small (kleine) letter.\n",
    "* The password contains at least one number.\n",
    "* The password contains at least punctuation (speciaal) character.\n",
    "\n",
    "Finally, print a message saying \"Password accepted\" if the password is strong, and \"Password too weak\" if the password does not match any of the 3 of the conditions above.  \n",
    "\n",
    "**Examples:**  \n",
    "Enter password: $1nterKlaas  \n",
    "Password accepted  \n",
    "  \n",
    "Enter password: P@kjesboot12  \n",
    "Password accepted  \n",
    "  \n",
    "Enter password: amerigo  \n",
    "Password too weak  \n",
    "  \n",
    "Enter password: 12345  \n",
    "Password too weak  \n",
    "  \n",
    "*Hint 1:* Python strings have built-in methods to check whether a letter is capital or small.  \n",
    "*Hint 2:* Likewise, Python strings have a method to check if a letter is numeric (number) or not.  \n",
    "*Hint 3:* You can find a list of punctuation characters if you import the string library and look at the attribute string.punctuation."
   ]
  },
  {
   "cell_type": "code",
   "execution_count": null,
   "metadata": {},
   "outputs": [],
   "source": [
    "import string\n",
    "\n",
    "password = input(\"Enter a password: \")\n",
    "\n",
    "# Boolean variables to check if multiple conditions are satisfied\n",
    "# These are False by default\n",
    "at_least_one_capital = False\n",
    "at_least_one_small = False\n",
    "at_least_one_number = False\n",
    "at_least_one_special = False\n",
    "\n",
    "password_characters = list(password) # convert the characters in the password into a list so I can work with them individually\n",
    "\n",
    "# Now I check each character individually, for each condition\n",
    "for character in password_characters:\n",
    "    \n",
    "    if character.isupper():\n",
    "        at_least_one_capital = True\n",
    "        \n",
    "    if character.islower():\n",
    "        at_least_one_small = True\n",
    "        \n",
    "    if character.isnumeric():\n",
    "        at_least_one_number = True\n",
    "        \n",
    "    if character in string.punctuation:\n",
    "        at_least_one_special = True\n",
    "\n",
    "# If all conditions have been met, all the flags will be set to True\n",
    "# So I check if this is the case\n",
    "if at_least_one_capital and at_least_one_small and at_least_one_number and at_least_one_special:\n",
    "    print(\"Password accepted\")\n",
    "else:\n",
    "    print(\"Password too weak\")"
   ]
  },
  {
   "cell_type": "markdown",
   "metadata": {},
   "source": [
    "## Exercise 7: Find the extent of a list of numbers"
   ]
  },
  {
   "cell_type": "markdown",
   "metadata": {},
   "source": [
    "The extent of a list of numbers is the **largest number minus the smallest number**. Your task here is to write a function in Python, called \"extent\" that takes a list of numbers as an argument, and returns the extent. The first thing you should do, is check that the list you provide to the function has only integers in it. If any of the values are not integers, return the value -1. Otherwise, return the largest number minus the smallest number.\n",
    "\n",
    "**Examples:**  \n",
    "extent(34, 30, 14, 50, 55)  \n",
    "41  \n",
    "  \n",
    "extent(1, 10, 2, 9, 3, 8, 4, 7, 5, 6)  \n",
    "9  \n",
    "  \n",
    "extent(1, 4, 5, 7, \"a\", \"b\", \"c\")  \n",
    "-1  \n",
    "  \n",
    "*Hint 1:* You can check if a variable contains an integer or not by using the type() function.  \n",
    "*Hint 2:* Sorting the list might make things a lot easier for you."
   ]
  },
  {
   "cell_type": "code",
   "execution_count": null,
   "metadata": {},
   "outputs": [],
   "source": [
    "def extent(*args):\n",
    "    ## ToDo: Fill in the code in this function\n",
    "    \n",
    "    # First check that all elements are integers\n",
    "    for element in args:\n",
    "        if type(element) != int:\n",
    "            return -1\n",
    "    \n",
    "    # Sort the list in ascending order\n",
    "    sorted_list = sorted(args)\n",
    "    \n",
    "    # Extent is now the last element minus the first element\n",
    "    extent = sorted_list[-1] - sorted_list[0]\n",
    "    \n",
    "    ## If there is a non-integer in the list, extent = -1. Otherwise return the actual extent.\n",
    "    return extent"
   ]
  },
  {
   "cell_type": "code",
   "execution_count": null,
   "metadata": {},
   "outputs": [],
   "source": [
    "extent(34, 30, 14, 50, 55)"
   ]
  },
  {
   "cell_type": "code",
   "execution_count": null,
   "metadata": {},
   "outputs": [],
   "source": [
    "extent(1, 10, 2, 9, 3, 8, 4, 7, 5, 6)"
   ]
  },
  {
   "cell_type": "code",
   "execution_count": null,
   "metadata": {},
   "outputs": [],
   "source": [
    "extent(1, 4, 5, 7, \"a\", \"b\", \"c\")"
   ]
  },
  {
   "cell_type": "markdown",
   "metadata": {},
   "source": [
    "## Exercise 8: Files and dictionaries"
   ]
  },
  {
   "cell_type": "markdown",
   "metadata": {},
   "source": [
    "You will find a file named [browsing_info.txt](https://github.com/xfer-learn/Python4N00bs/blob/master/Exercises/browsing_info.txt) in the Exercise directory. Download this file and keep it in the same directory as this notebook. You have to do the following:  \n",
    "* Read the file into memory, as a list of lines\n",
    "* Remove the \\n (newline) character from each of the lines you just read into memory.\n",
    "* Each line of the file contains a term followed by a value. For example - Name:Piet, Web Browser:Chrome. Etc. Your task is to create a Python dictionary that contains the term as the key, and the corresponding value for that term as the value, for each item in the dictionary.\n",
    "* Save this dictionary in a variable called browsing_dict\n",
    "* Find the value corresponding to the key \"IP address\" in this dictionary. Save this value in the variable called IP.  \n",
    "  \n",
    "*Hint 1:* You need to separate each line of text based on the term and value. Each term and value have a **-** between them in the text file. Can you think of a Python string method that separates strings based on a specific character?  \n",
    "*Hint 2:* There are many ways to remove the \\n character. One way is to use the .rstrip() method. Another way could be to just delete the last character from each line. See what's easiest for you.  "
   ]
  },
  {
   "cell_type": "code",
   "execution_count": null,
   "metadata": {},
   "outputs": [],
   "source": [
    "## ToDo: Complete the code here\n",
    "# Remember - read the file as a list of lines. Remove the \\n character from the end of each line.\n",
    "with open(\"browsing_info.txt\", \"r+\") as fhandle:\n",
    "    all_lines = fhandle.readlines()\n",
    "\n",
    "all_lines_cleaned = [line.rstrip() for line in all_lines] # Use rstrip() method and list comprehension\n",
    "\n",
    "## The variable browsing_dict should contain the correct Python dictionary\n",
    "# Now I use dictionar comprehension.\n",
    "# For each element of the list, I use the .split(\"-\") method.\n",
    "# The element at index 0 after the split will be the key, and the element at index 1 will be the value\n",
    "browsing_dict = {data.split(\"-\")[0]:data.split(\"-\")[1] for data in all_lines_cleaned}\n",
    "\n",
    "\n",
    "## The variable IP should contain the value corresponding to the IP address from this dictionary\n",
    "\n",
    "IP = browsing_dict[\"IP address\"]\n",
    "print(IP)\n",
    "\n"
   ]
  },
  {
   "cell_type": "markdown",
   "metadata": {},
   "source": [
    "## Exercise 9: Flipping an image"
   ]
  },
  {
   "cell_type": "markdown",
   "metadata": {},
   "source": [
    "In this next exercise, you will read an image into memory. You can use any library you like for this, but I recommend using the OpenCV library (cv2). You will find this image in the Exercises folder, under the name [flipped.jpg](https://github.com/xfer-learn/Python4N00bs/blob/master/Exercises/flipped.jpg). As you can see, this image is flipped on its side. Your task is to flip the image the right way up, and then display it. That's all!  \n",
    "  \n",
    "*Hint 1:*  Use the cv2 library and cv2_imshow() function from colab patches, if you are running this on Colab.  \n",
    "*Hint 2:* The numpy matrix transpose attribute can be very handy here. Look this up!  "
   ]
  },
  {
   "cell_type": "code",
   "execution_count": null,
   "metadata": {},
   "outputs": [],
   "source": [
    "## ToDo: Write your code here, to read the image into memory, flip it the right way up, and display it.\n",
    "\n",
    "import cv2\n",
    "from google.colab.patches import cv2_imshow\n",
    "import numpy as np\n",
    "\n",
    "flipped_image = cv2.imread(\"flipped.jpg\", 0) # NOTE: I am reading this in as a black and white image\n",
    "# 1 color channel = black and white. 3 color channels = color image.\n",
    "\n",
    "upright_image = np.transpose(flipped_image)\n",
    "\n",
    "cv2_imshow(upright_image)"
   ]
  }
 ],
 "metadata": {
  "kernelspec": {
   "display_name": "Python 3",
   "language": "python",
   "name": "python3"
  },
  "language_info": {
   "codemirror_mode": {
    "name": "ipython",
    "version": 3
   },
   "file_extension": ".py",
   "mimetype": "text/x-python",
   "name": "python",
   "nbconvert_exporter": "python",
   "pygments_lexer": "ipython3",
   "version": "3.6.9"
  }
 },
 "nbformat": 4,
 "nbformat_minor": 2
}
