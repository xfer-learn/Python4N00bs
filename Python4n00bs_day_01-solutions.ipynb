{
 "cells": [
  {
   "cell_type": "markdown",
   "metadata": {},
   "source": [
    "# Python for n00bs - Day 1"
   ]
  },
  {
   "cell_type": "markdown",
   "metadata": {},
   "source": [
    "## Basic concepts in Python\n",
    "Welcome to your first day of programming with Python! My name is Vikram Mark Radhakrishnan. You can find me on [LinkedIn](https://www.linkedin.com/in/vikram-mark-radhakrishnan-90038660/), or reach me via email at radhakrishnan@strw.leidenuniv.nl\n",
    "\n",
    "Shout-out to [Pythonistas NL](https://www.meetup.com/Pythonistas-NL/) for providing some of the exercises, to make this workshop possible!\n",
    "<img src=\"nb_images/Pythonistas.jpg\" width=\"400\" height=\"400\"/> "
   ]
  },
  {
   "cell_type": "markdown",
   "metadata": {},
   "source": [
    "### 1. Your first Python script!\n",
    "Let's start by learning how to display text on the screen - one of the most useful things to do in all of programming!"
   ]
  },
  {
   "cell_type": "code",
   "execution_count": null,
   "metadata": {},
   "outputs": [],
   "source": [
    "# Let's display a message on screen!\n",
    "\n",
    "print(\"Hello, world!\")"
   ]
  },
  {
   "cell_type": "markdown",
   "metadata": {},
   "source": [
    "There's a bunch of things to learn from this one line of code.  \n",
    "First, the line starting with #. This is a comment in Python, meaning that it is purely for you, the programmer to understand what's going on in the code, and is not processed by the Python interpreter.  \n",
    "The print(...) command, which displays whatever is in the parantheses on the screen.  \n",
    "The text to be printed, which is in quotation marks - meaning it is a \"string\". More on this later.  "
   ]
  },
  {
   "cell_type": "markdown",
   "metadata": {},
   "source": [
    "Parantheses (brackets) are important in Python. Whenever you open a bracket, be sure you have a corresponding closed bracket! The same goes for quotation marks, and anything that comes in pairs.\n",
    "\n",
    "**Correct the error(s) in the following lines of code:**"
   ]
  },
  {
   "cell_type": "code",
   "execution_count": null,
   "metadata": {},
   "outputs": [],
   "source": [
    "print(\"There is no problem here!\""
   ]
  },
  {
   "cell_type": "code",
   "execution_count": null,
   "metadata": {},
   "outputs": [],
   "source": [
    "print(\"Everything is just peachy!)"
   ]
  },
  {
   "cell_type": "markdown",
   "metadata": {},
   "source": [
    "**Solutions:**"
   ]
  },
  {
   "cell_type": "code",
   "execution_count": null,
   "metadata": {},
   "outputs": [],
   "source": [
    "print(\"There is no problem here!\")"
   ]
  },
  {
   "cell_type": "code",
   "execution_count": null,
   "metadata": {},
   "outputs": [],
   "source": [
    "print(\"Everything is just peachy!\")"
   ]
  },
  {
   "cell_type": "markdown",
   "metadata": {},
   "source": [
    "The backslash ( \\\\ ) - do not confuse this with the forward slash ( / ). Backslash is an escape character, meaning it is taken in combination with the following character. \\n means include a new line. Let's look at some more escape characters:\n",
    "\n",
    "**ToDo:** Use the correct escape characters in the next cell."
   ]
  },
  {
   "cell_type": "code",
   "execution_count": null,
   "metadata": {},
   "outputs": [],
   "source": [
    "print(\"Put a tab space between these two words: TAB SPACE\")\n",
    "print(\"Print a backslash at the end of this sentence.\")\n",
    "print(\"Enclose this sentence in quotation marks.\")"
   ]
  },
  {
   "cell_type": "markdown",
   "metadata": {},
   "source": [
    "**Solutions:**"
   ]
  },
  {
   "cell_type": "code",
   "execution_count": null,
   "metadata": {},
   "outputs": [],
   "source": [
    "print(\"Put a tab space between these two words: TAB\\tSPACE\")\n",
    "print(\"Print a backslash at the end of this sentence.\\\\\")\n",
    "print(\"\\\"Enclose this sentence in quotation marks.\\\"\")"
   ]
  },
  {
   "cell_type": "markdown",
   "metadata": {},
   "source": [
    "### 2. Variables and data types in Python\n",
    "A variable is something used to store data. Unlike a constant, which is data that has a fixed value, the content of a variable can change throughout the code."
   ]
  },
  {
   "cell_type": "code",
   "execution_count": null,
   "metadata": {},
   "outputs": [],
   "source": [
    "# Constant\n",
    "print(\"This is a constant: \")\n",
    "print(10)\n",
    "\n",
    "#Variable\n",
    "a = 10\n",
    "print(\"This is a variable: \")\n",
    "print(a)\n",
    "\n",
    "print(\"Let's change the value of the variable: \")\n",
    "a = 20\n",
    "print(a)\n",
    "\n",
    "print(\"Let's change it into a word: \")\n",
    "a = \"twenty\"\n",
    "print(a)\n",
    "\n",
    "valid_variable_name_1 = 1\n",
    "print(valid_variable_name_1)"
   ]
  },
  {
   "cell_type": "markdown",
   "metadata": {},
   "source": [
    "Variables can have different types in Python. Depending on the type of the variable, you can do certain operations on it. For example, you can do mathematical operations such as multiplcation and division on int and float types, which are numbers, but not on string types.\n",
    "\n",
    "#### Numbers:\n",
    "Python supports int (integer) and float (floating point) numbers. A floating point number has a decimal point in it. Python also supports complex numbers (numbers with a real and an imaginary part).\n",
    "#### Words and letters:\n",
    "In Python the str (string) data type refers to words and letters. You must enclose strings in either single or double quotation marks, provided you are consistent. Or you can enclose strings in triple quotation marks which may come in handy as we shall see.\n",
    "#### True and False:\n",
    "Python has a bool (boolean) data type that either contains a True or a False. This is useful when we want to check certain conditions or to make decisions in our code. More on this in conditional statements.\n",
    "#### None:\n",
    "The None type is a special data type in Python. None is not equal to zero, False, an empty list, or anything else. None is literally nothing, and it signifies the variable has no value.\n",
    "\n",
    "You can check the type of a variable by using type(data)."
   ]
  },
  {
   "cell_type": "code",
   "execution_count": null,
   "metadata": {},
   "outputs": [],
   "source": [
    "y = True\n",
    "type(y)"
   ]
  },
  {
   "cell_type": "markdown",
   "metadata": {},
   "source": [
    "Python data can be converted from one type to another."
   ]
  },
  {
   "cell_type": "code",
   "execution_count": null,
   "metadata": {},
   "outputs": [],
   "source": [
    "# Here we make a string of numbers. This is a string because it is enclosed in quotation marks \" \"\n",
    "chars = '420'\n",
    "print(type(chars))\n",
    "\n",
    "# Now we convert this string into an integer. This is possible here because it is a string of digits.\n",
    "nums = int(chars)\n",
    "print(type(nums))"
   ]
  },
  {
   "cell_type": "markdown",
   "metadata": {},
   "source": [
    "You can input data from a user, using the input() function. This function returns the value entered by the user, which you can then store in a variable."
   ]
  },
  {
   "cell_type": "code",
   "execution_count": null,
   "metadata": {},
   "outputs": [],
   "source": [
    "user_choice = input(\"Pick a number! Any number! \")\n",
    "print(\"You picked the number \", end='')\n",
    "print(user_choice)"
   ]
  },
  {
   "cell_type": "markdown",
   "metadata": {},
   "source": [
    "**ToDo:** Try to input some data from the user and display what type of data it is."
   ]
  },
  {
   "cell_type": "code",
   "execution_count": null,
   "metadata": {},
   "outputs": [],
   "source": [
    "data = input(\"Enter some data: \")\n",
    "\n",
    "print(type(data))"
   ]
  },
  {
   "cell_type": "markdown",
   "metadata": {},
   "source": [
    "**ToDo:** What does this tell you about the input() function? Input some numeric data from the user and make it float type."
   ]
  },
  {
   "cell_type": "markdown",
   "metadata": {},
   "source": [
    "**Solution:** This shows us that the input() function always gives data of type string. If we need to work with integers or floats input from the user, we have to first convert the user input into a different data type."
   ]
  },
  {
   "cell_type": "code",
   "execution_count": null,
   "metadata": {},
   "outputs": [],
   "source": [
    "float_data = float(input(\"Enter a number with a decimal point: \"))\n",
    "\n",
    "print(type(float_data))"
   ]
  },
  {
   "cell_type": "markdown",
   "metadata": {},
   "source": [
    "### 3. Operations in Python\n",
    "We can use Python quite simply as a calculator. If we are working with integers, floats, or complex numbers, or variables with such data stored in them, we can perform calculations with this.  \n",
    "Note that if you combine int with float in your calculations, the result is a float. If you combine int or float with complex, the result is complex.  \n",
    "Here are a (not complete) list of mathematical operations:\n",
    "1. Addition +\n",
    "2. Subtraction - \n",
    "3. Multiplication *\n",
    "4. Division /\n",
    "5. Integer division //\n",
    "6. Modulus (remainder) %\n",
    "7. Raising to a power **\n",
    "8. Matrix multiplication @"
   ]
  },
  {
   "cell_type": "markdown",
   "metadata": {},
   "source": [
    "A variable can be operated upon in-place:"
   ]
  },
  {
   "cell_type": "code",
   "execution_count": null,
   "metadata": {},
   "outputs": [],
   "source": [
    "# First, we give var a value of 5\n",
    "var = 5\n",
    "\n",
    "# Next, we multiply var by 2 and store the result in the same variable, var\n",
    "# We do this by usingg an in-place operator. So var is now 10.\n",
    "var *= 2\n",
    "print(var)\n",
    "\n",
    "#Finally we use in-place subtraction to subtract 3 rom var. So var is now 7. \n",
    "var -= 3\n",
    "print(var)"
   ]
  },
  {
   "cell_type": "markdown",
   "metadata": {},
   "source": [
    "**ToDo:** Rewrite the code so that it accepts user input height and weight and uses that to calculate the BMI."
   ]
  },
  {
   "cell_type": "code",
   "execution_count": null,
   "metadata": {},
   "outputs": [],
   "source": [
    "# Can you rewrite this to accept user input for the calculation?\n",
    "\n",
    "height = 1.74\n",
    "weight = 80\n",
    "\n",
    "bmi = weight / (height) ** 2\n",
    "\n",
    "print(\"BMI is: \" + str(bmi))"
   ]
  },
  {
   "cell_type": "markdown",
   "metadata": {},
   "source": [
    "**Solution:**"
   ]
  },
  {
   "cell_type": "code",
   "execution_count": null,
   "metadata": {},
   "outputs": [],
   "source": [
    "height = float(input(\"Enter your height in meters: \"))\n",
    "weight = float(input(\"Enter your weight in kgs: \"))\n",
    "\n",
    "bmi = weight / (height) ** 2\n",
    "\n",
    "print(\"BMI is: \" + str(bmi))"
   ]
  },
  {
   "cell_type": "markdown",
   "metadata": {},
   "source": [
    "Note that with different data types, certain operations show different behavior. For example, the + operator adds two integers or floats together, but what does it do to two strings?  \n",
    "\n",
    "**ToDo:** Make two variables that hold strings, use the + operator on them, and print the result."
   ]
  },
  {
   "cell_type": "code",
   "execution_count": null,
   "metadata": {},
   "outputs": [],
   "source": [
    "string1 = \"Python \"\n",
    "string2 = \"Programming\"\n",
    "\n",
    "result = string1 + string2\n",
    "print(result)"
   ]
  },
  {
   "cell_type": "markdown",
   "metadata": {},
   "source": [
    "Python also has relational operators. These for instance compare different numbers to check which one is greater or if they are equal. The output of an expression with relational operators is a boolean.\n",
    "1. Greater than: a > b\n",
    "2. Less than: a < b\n",
    "3. Equal to: a == b\n",
    "4. Greater than or equal to: a >= b\n",
    "5. Less than or equal to: a <= b\n",
    "6. Not equal to: a != b"
   ]
  },
  {
   "cell_type": "markdown",
   "metadata": {},
   "source": [
    "Relational operators can be used to make relational statements such as the one below.\n",
    "\n",
    "The result of a relational (or conditional) statement is a Boolean (True or False)"
   ]
  },
  {
   "cell_type": "code",
   "execution_count": null,
   "metadata": {},
   "outputs": [],
   "source": [
    "bird = 10\n",
    "word = 10\n",
    "\n",
    "# Haven't you heard?\n",
    "bird == word"
   ]
  },
  {
   "cell_type": "markdown",
   "metadata": {},
   "source": [
    "In Python, operators that make logical combinations of expressions are called logical operators. They are the words **and** and **or**.\n",
    "\n",
    "The operator **and** results in a True if both the expression to the left and the right of the and are True. The operator **or** results in a True if either the expression to the left or to the right of the or are True."
   ]
  },
  {
   "cell_type": "code",
   "execution_count": null,
   "metadata": {},
   "outputs": [],
   "source": [
    "100 > 90 and \"good\" == \"bad\""
   ]
  },
  {
   "cell_type": "code",
   "execution_count": null,
   "metadata": {},
   "outputs": [],
   "source": [
    "100 > 90 or \"good\" == \"bad\""
   ]
  },
  {
   "cell_type": "markdown",
   "metadata": {},
   "source": [
    "**ToDo:** Accept a number from the user and print whether it is divisible by ten and greater than hundred."
   ]
  },
  {
   "cell_type": "code",
   "execution_count": null,
   "metadata": {},
   "outputs": [],
   "source": [
    "number = int(input(\"Enter a number: \"))\n",
    "\n",
    "print( number % 10 == 0 and number > 100 )"
   ]
  },
  {
   "cell_type": "markdown",
   "metadata": {},
   "source": [
    "### 4. Strings and their methods"
   ]
  },
  {
   "cell_type": "markdown",
   "metadata": {},
   "source": [
    "A method is a function that is specific to a certain \"object\" in Python. We won't be covering classes and objects (Object Oriented Programming) in today's workshop though. For now let's look at some examples of methods that are relevant to string objects, i.e. data with type str."
   ]
  },
  {
   "cell_type": "code",
   "execution_count": null,
   "metadata": {},
   "outputs": [],
   "source": [
    "name = \"python programming\"\n",
    "\n",
    "capital_name = name.capitalize()\n",
    "all_caps_name = name.upper()\n",
    "replace_t_name = name.replace('t','+')\n",
    "words_in_name = name.split(' ')\n",
    "\n",
    "print(capital_name)\n",
    "print(all_caps_name)\n",
    "print(replace_t_name)\n",
    "print(words_in_name)"
   ]
  },
  {
   "cell_type": "markdown",
   "metadata": {},
   "source": [
    "**ToDo:** User inputs a sentence. Convert the sentence to lower case, capitalize the first letter, and replace \"to\" with \"from\"."
   ]
  },
  {
   "cell_type": "code",
   "execution_count": null,
   "metadata": {},
   "outputs": [],
   "source": [
    "sentence = input(\"Enter a sentence: \")\n",
    "capital_sentence = sentence.capitalize()\n",
    "new_sentence = capital_sentence.replace(\"to\", \"from\")\n",
    "\n",
    "print(new_sentence)"
   ]
  },
  {
   "cell_type": "markdown",
   "metadata": {},
   "source": [
    "We have looked at one way of creating strings with different data - by concatenating strings together and printing them out. There's another way in which we can add information into a string from different data, and that is string formatting."
   ]
  },
  {
   "cell_type": "code",
   "execution_count": null,
   "metadata": {},
   "outputs": [],
   "source": [
    "name = \"Vikram\"\n",
    "age = 29\n",
    "\n",
    "print(\"My name is {0} and I am {1} years old\".format(name, age))"
   ]
  },
  {
   "cell_type": "markdown",
   "metadata": {},
   "source": [
    "String formatting also allows us to print in a well organized and neat fashion."
   ]
  },
  {
   "cell_type": "code",
   "execution_count": null,
   "metadata": {},
   "outputs": [],
   "source": [
    "sun_mass = 1.989e30\n",
    "pi = 3.141592653589793238\n",
    "\n",
    "print(\"The value of pi is: {0:.4f}\\nThe mass of the sun is: {1:.0E} kg\".format(pi, sun_mass))"
   ]
  },
  {
   "cell_type": "markdown",
   "metadata": {},
   "source": [
    "And another neat and efficient way of printing string, is by using f-strings. F-strings are especially useful when you are adding a lot of variables into the string you need to print, and using the .format(...) way would result in a very long line of code."
   ]
  },
  {
   "cell_type": "code",
   "execution_count": null,
   "metadata": {},
   "outputs": [],
   "source": [
    "print(f\"My name is {name} and I am {age} years old\")"
   ]
  },
  {
   "cell_type": "markdown",
   "metadata": {},
   "source": [
    "Remember that Python is **case sensitive**. That is, upper case letters (A, B, C) are considered different from lower case letters (a, b, c). Let's look at some common syntax errors, and how to correct them.\n",
    "\n",
    "**Correct the error(s) in the following lines of code:**"
   ]
  },
  {
   "cell_type": "code",
   "execution_count": null,
   "metadata": {},
   "outputs": [],
   "source": [
    "name = \"Bobbert\"\n",
    "age = 45\n",
    "coder = True\n",
    "\n",
    "print(f\"This is {Name}. He is {Age} years old. It is {programmer} that he is a programmer!\")"
   ]
  },
  {
   "cell_type": "markdown",
   "metadata": {},
   "source": [
    "**Solution:**"
   ]
  },
  {
   "cell_type": "code",
   "execution_count": null,
   "metadata": {},
   "outputs": [],
   "source": [
    "name = \"Bobbert\"\n",
    "age = 45\n",
    "coder = True\n",
    "\n",
    "print(f\"This is {name}. He is {age} years old. It is {coder} that he is a programmer!\")"
   ]
  },
  {
   "cell_type": "markdown",
   "metadata": {},
   "source": [
    "### 5. Collections of items: tuples, lists, sets, and dictionaries\n",
    "A list in Python is an indexed collection of data. Every element in a list can be accessed by its positional index.\n",
    "A tuple is a list that is immutable.  \n",
    "A set is just like a list, but each element in the set is unique.  \n",
    "A dictionary is a collection of data where each element has an identifying keyword, and a value."
   ]
  },
  {
   "cell_type": "code",
   "execution_count": null,
   "metadata": {},
   "outputs": [],
   "source": [
    "list_1 = [1, 2, 3, 4, 5]\n",
    "list_2 = list()\n",
    "\n",
    "dict_1 = {\"Luck\":10, \"Skill\":20, \"Concentrated power of will\":15, \"Pleasure\":5, \"Pain\":50}\n",
    "dict_2 = dict()\n",
    "\n",
    "tuple_1 = (1, 3, 5, 7, 9)\n",
    "\n",
    "set_1 = {1, 1, 2, 3, 5, 8, 13}"
   ]
  },
  {
   "cell_type": "markdown",
   "metadata": {},
   "source": [
    "We can add new elements to a list by using the append or extend method of a list. We can add new elements to a dictionary either by defining a new key, or by using the update method of a dict. We can add new elements to a set by using the add or update method of a set."
   ]
  },
  {
   "cell_type": "code",
   "execution_count": null,
   "metadata": {},
   "outputs": [],
   "source": [
    "names = [\"Vikram\", \"Boby\", \"Ahmed\"]\n",
    "names.extend([\"Arjen\", \"Bart\", \"Benedikt\"])\n",
    "print(names)"
   ]
  },
  {
   "cell_type": "code",
   "execution_count": null,
   "metadata": {},
   "outputs": [],
   "source": [
    "dict_1.update({\"Reason to remember the name\" : 100})\n",
    "# Or use this\n",
    "dict_1[\"Reason to remember the name\"] = 100"
   ]
  },
  {
   "cell_type": "code",
   "execution_count": null,
   "metadata": {},
   "outputs": [],
   "source": [
    "# Let's look at the updated dictionary\n",
    "print(dict_1)"
   ]
  },
  {
   "cell_type": "markdown",
   "metadata": {},
   "source": [
    "**Correct the error(s) in the following lines of code:**"
   ]
  },
  {
   "cell_type": "code",
   "execution_count": null,
   "metadata": {},
   "outputs": [],
   "source": [
    "mixed_list = [1, 2 'a', 'z', True, None]"
   ]
  },
  {
   "cell_type": "code",
   "execution_count": null,
   "metadata": {},
   "outputs": [],
   "source": [
    "language_library = [\"English\":\"Library\", \"Nederlands\":\"Bibliotheek\", \"Deutsch\": \"Bucherei\", \"Espanol\":\"Biblioteca\"]"
   ]
  },
  {
   "cell_type": "markdown",
   "metadata": {},
   "source": [
    "**Solution:**"
   ]
  },
  {
   "cell_type": "code",
   "execution_count": null,
   "metadata": {},
   "outputs": [],
   "source": [
    "mixed_list = [1, 2, 'a', 'z', True, None]"
   ]
  },
  {
   "cell_type": "code",
   "execution_count": null,
   "metadata": {},
   "outputs": [],
   "source": [
    "language_library = {\"English\":\"Library\", \"Nederlands\":\"Bibliotheek\", \"Deutsch\": \"Bucherei\", \"Espanol\":\"Biblioteca\"}"
   ]
  },
  {
   "cell_type": "markdown",
   "metadata": {},
   "source": [
    "Slicing a list is an often confusing aspect of Python. Lists can be sliced using the index and the : operator. The slice operation is **inclusive** of the first index and **exclusive** of the last index. For example:"
   ]
  },
  {
   "cell_type": "code",
   "execution_count": null,
   "metadata": {},
   "outputs": [],
   "source": [
    "a_list = [12, 65, 34, -19, -18, 43, -24, -5, 0, 7, 17]\n",
    "\n",
    "# Slice from somewhere in the middle\n",
    "sub_list_mid = a_list[3:6]\n",
    "\n",
    "# Slice the first five elements\n",
    "sub_list_start = a_list[:5]\n",
    "\n",
    "# Slice from element 5 to the end\n",
    "sub_list_end = a_list[5:]\n",
    "\n",
    "# Slice the last five elements\n",
    "sub_list_last = a_list[-5:]\n",
    "\n",
    "# Make a copy of the list\n",
    "a_list_copy = a_list[:]"
   ]
  },
  {
   "cell_type": "markdown",
   "metadata": {},
   "source": [
    "**ToDo:** Make a list of everyone's ages. Remove all the duplicate elements, i.e. convert it into a set, and then back into a list. Then print the fourth, fifth, and sixth element from the resulting set."
   ]
  },
  {
   "cell_type": "code",
   "execution_count": null,
   "metadata": {},
   "outputs": [],
   "source": [
    "ages = [25, 28, 40, 39, 25, 17, 35, 17, 40]\n",
    "\n",
    "unique_ages_set = set(ages) # this removes duplicates\n",
    "\n",
    "unique_ages_list = list(unique_ages_set) # this converts it back into a list\n",
    "\n",
    "print(unique_ages_list[3:6])"
   ]
  },
  {
   "cell_type": "markdown",
   "metadata": {},
   "source": [
    "**ToDo:** Now make a dictionary with everyone's names as the keys and their ages as the values. Start with a list of names, a corresponding list of ages, and use the **zip** function to create an iterator, and the dict function to convert this into a dictionary."
   ]
  },
  {
   "cell_type": "code",
   "execution_count": null,
   "metadata": {},
   "outputs": [],
   "source": [
    "names = [\"Bill\", \"Bob\", \"Tim\", \"Tom\", \"Jim\", \"John\", \"Max\", \"Pat\", \"Rob\"]\n",
    "ages = [25, 28, 40, 39, 25, 17, 35, 17, 40]\n",
    "\n",
    "names_and_ages = dict(zip(names, ages))\n",
    "\n",
    "print(names_and_ages)"
   ]
  },
  {
   "cell_type": "markdown",
   "metadata": {},
   "source": [
    "Python lists also have usefull built-in methods. For example, the methods to sort or reverse a list could come in handy:"
   ]
  },
  {
   "cell_type": "code",
   "execution_count": null,
   "metadata": {},
   "outputs": [],
   "source": [
    "a_list = [12, 65, 34, -19, -18, 43, -24, -5, 0, 7, 17]\n",
    "a_list_copy = a_list[:]"
   ]
  },
  {
   "cell_type": "code",
   "execution_count": null,
   "metadata": {},
   "outputs": [],
   "source": [
    "a_list_copy.sort()\n",
    "a_list_copy.reverse()\n",
    "\n",
    "# NOTE: the .sort() and the .reverse() methods will modify the contents of the list thatyo use them on\n",
    "# So in this case, a_list_copy will change after running the above two lines of code!\n",
    "\n",
    "print(a_list_copy)"
   ]
  },
  {
   "cell_type": "markdown",
   "metadata": {},
   "source": [
    "A string can also be treated as a list of characters."
   ]
  },
  {
   "cell_type": "code",
   "execution_count": null,
   "metadata": {},
   "outputs": [],
   "source": [
    "charlist = \"Nothing but a string\"\n",
    "charlist[4:8]"
   ]
  },
  {
   "cell_type": "markdown",
   "metadata": {},
   "source": [
    "You can measure te length of a string using the len() function."
   ]
  },
  {
   "cell_type": "code",
   "execution_count": null,
   "metadata": {},
   "outputs": [],
   "source": [
    "len(charlist)"
   ]
  },
  {
   "cell_type": "markdown",
   "metadata": {},
   "source": [
    "### 6. Should we do this? Conditional statements\n",
    "In Python, we can check if a condition is true or not, using the if, elif, and else statements. We can execute different lines of code based on the results of these checks."
   ]
  },
  {
   "cell_type": "code",
   "execution_count": null,
   "metadata": {},
   "outputs": [],
   "source": [
    "a_number = input(\"Enter a number between one and a hundred: \")\n",
    "a_number = int(a_number)\n",
    "\n",
    "if a_number < 1:\n",
    "    print(\"That's too small!\")\n",
    "elif a_number > 100:\n",
    "    print(\"That's too large!\")\n",
    "else:\n",
    "    print(\"A wise choice!\")"
   ]
  },
  {
   "cell_type": "markdown",
   "metadata": {},
   "source": [
    "The if statement can also be used to check whether a certain element exists in a list, using the \"in\" keyword.  "
   ]
  },
  {
   "cell_type": "code",
   "execution_count": null,
   "metadata": {},
   "outputs": [],
   "source": [
    "a = [1, 2, 3, 4, 5, 6]\n",
    "if 1 in a:\n",
    "    print(\"We got one!\")"
   ]
  },
  {
   "cell_type": "markdown",
   "metadata": {},
   "source": [
    "You can perform a function (such as converting from one data type to another) on every element of a list, using the map function."
   ]
  },
  {
   "cell_type": "code",
   "execution_count": null,
   "metadata": {},
   "outputs": [],
   "source": [
    "# map applies a function to all the elements of a list\n",
    "# the result of map is an iterable\n",
    "b = map(str, a)\n",
    "\n",
    "# to get a list of the results, convert the iterable into a list\n",
    "list(b)"
   ]
  },
  {
   "cell_type": "markdown",
   "metadata": {},
   "source": [
    "**ToDo:** Enter a list of numbers from the user, separated by commas and no spaces. Split this list into the individual numbers in the list, and convert them from type str to type int. Check if the number 10 exists in this list, and if it does, display a message."
   ]
  },
  {
   "cell_type": "code",
   "execution_count": null,
   "metadata": {},
   "outputs": [],
   "source": [
    "numlist = input(\"Enter a list of numbers separated by commas: \")\n",
    "\n",
    "print(f\"This is the list you entered: {numlist}\")\n",
    "\n",
    "individual_chars = numlist.split(\",\")\n",
    "print(f\"These are the individual characters in the list: {individual_chars}\")\n",
    "\n",
    "individual_nums = list(map(int, individual_chars))\n",
    "print(f\"These are the individual numbers in the list: {individual_nums}\")\n",
    "\n",
    "if 10 in individual_nums:\n",
    "    print(\"The number 10 is in the list!\")\n",
    "else:\n",
    "    print(\"The number 10 is not in the list!\")"
   ]
  },
  {
   "cell_type": "markdown",
   "metadata": {},
   "source": [
    "**ToDo:** Answer the riddle - a programmer's mother asks him to go to the store. She tells him, \"Buy a carton of milk. If they have eggs, buy twelve\". If you think like a progammer, and if the store had eggs, what does he end up buying?"
   ]
  },
  {
   "cell_type": "code",
   "execution_count": null,
   "metadata": {},
   "outputs": [],
   "source": [
    "# He initially has 0 milk cartons\n",
    "milk_cartons = 0\n",
    "\n",
    "# The store had eggs\n",
    "eggs = True\n",
    "\n",
    "# First he was asked to buy a carton of milk\n",
    "milk_cartons += 1\n",
    "\n",
    "# Then he checked if the store had eggs\n",
    "if(eggs):\n",
    "    milk_cartons += 12\n",
    "\n",
    "print(\"Milk cartons bought: \" + str(milk_cartons))"
   ]
  },
  {
   "cell_type": "markdown",
   "metadata": {},
   "source": [
    "**ToDo:** Enter a GPA between 1 and 10. Assign a grade based on the GPA. If the GPA is below 6, the grade is 'F'. If it is between 6 and 7, the grade is D. Between 7 and 8, grade C. Between 8 and 9, grade B. And above 9 is an 'A'. If the user inputs anything else, display an error message."
   ]
  },
  {
   "cell_type": "code",
   "execution_count": null,
   "metadata": {},
   "outputs": [],
   "source": [
    "GPA = int(input(\"Enter the GPA: \"))\n",
    "\n",
    "if GPA >=1 and GPA < 6:\n",
    "    print(\"Grade is F.\")\n",
    "elif GPA >=6 and GPA < 7:\n",
    "    print(\"Grade is D.\")\n",
    "elif GPA >=7 and GPA < 8:\n",
    "    print(\"Grade is C.\")\n",
    "elif GPA >=8 and GPA < 9:\n",
    "    print(\"Grade is B.\")\n",
    "elif GPA >=9 and GPA < 10:\n",
    "    print(\"Grade is A.\")\n",
    "else:\n",
    "    print(\"Error! Grade must be between 1 and 10!\")"
   ]
  },
  {
   "cell_type": "markdown",
   "metadata": {},
   "source": [
    "### 6. Let's do it again and again! Iteration statements\n",
    "There are two main kinds of loop statements in Python. The while loop and the for loop. The while loop constantly checks if a condition is satisfied, and continues to run as long as the condition remains satisfied. The for loop iterates over a list or a sequence, in order. A useful function to use with the for loop is the range() function."
   ]
  },
  {
   "cell_type": "code",
   "execution_count": null,
   "metadata": {},
   "outputs": [],
   "source": [
    "counter = 5\n",
    "while counter > 0:\n",
    "    print(\"Counter value \" + str(counter))\n",
    "    counter -= 1"
   ]
  },
  {
   "cell_type": "code",
   "execution_count": null,
   "metadata": {},
   "outputs": [],
   "source": [
    "some_list = [1, 3, 5, 7, 9]\n",
    "for iterator in some_list:\n",
    "    print(iterator)"
   ]
  },
  {
   "cell_type": "markdown",
   "metadata": {},
   "source": [
    "If you need to iterate over two or more lists at the same time, the \"zip\" function comes in handy. With zip, you can combine elements of two or more lists into a tuple, and iterate over these tuples. The iteration stops when the shortest list is completed."
   ]
  },
  {
   "cell_type": "code",
   "execution_count": null,
   "metadata": {},
   "outputs": [],
   "source": [
    "num_list = [1, 2, 3, 4, 5]\n",
    "word_list = [\"one\", \"two\", \"three\", \"four\", \"five\"]\n",
    "\n",
    "for num, word in zip(num_list, word_list):\n",
    "    print(\"Num = \" + str(num))\n",
    "    print(\"Word = \" + str(word))"
   ]
  },
  {
   "cell_type": "markdown",
   "metadata": {},
   "source": [
    "**ToDo:** Let's do that BMI calculation on a list of people. We store their heights in one list, their corresponding weights in another list, and in a loop we calculate the BMI for each person and store that in a third list."
   ]
  },
  {
   "cell_type": "code",
   "execution_count": null,
   "metadata": {},
   "outputs": [],
   "source": [
    "heights = [1.75, 1.6, 1.95, 2.1, 1.8]\n",
    "weights = [81, 72, 88, 92, 85]\n",
    "\n",
    "results = [] # we start with making an empty list in which to store the results\n",
    "\n",
    "for h, w in zip(heights, weights):\n",
    "    bmi = w / (h) ** 2\n",
    "    \n",
    "    results.append(bmi)\n",
    "    \n",
    "print(results)"
   ]
  },
  {
   "cell_type": "markdown",
   "metadata": {},
   "source": [
    "The enumerate function also provides a handy iterable along with a counter. Using enumerate on a list gives you iterable tuples, where the first element of the tuple is a count value. The counter starts from zero by default, but you can provide a starting value as an argument to the enumerate function."
   ]
  },
  {
   "cell_type": "code",
   "execution_count": null,
   "metadata": {},
   "outputs": [],
   "source": [
    "for num, word in enumerate(word_list, 1):\n",
    "    print(\"Num = \" + str(num))\n",
    "    print(\"Word = \" + str(word))"
   ]
  },
  {
   "cell_type": "markdown",
   "metadata": {},
   "source": [
    "You can \"nest\" a loop inside another loop. This means the inner loop will run to completion at every iteration of the outer loop. For example:"
   ]
  },
  {
   "cell_type": "code",
   "execution_count": null,
   "metadata": {},
   "outputs": [],
   "source": [
    "# outer is a counter for the outer loop - the line number\n",
    "outer = 1\n",
    "\n",
    "while outer < 10:\n",
    "    \n",
    "    # inner is a counter for the inner loop - the number that we print on the line\n",
    "    inner = 1\n",
    "    \n",
    "    # inner will keep increasing until it reaches the value of outer\n",
    "    # so, every new line will have up to one higher value of inner\n",
    "    while inner < outer:\n",
    "        \n",
    "        # here we are printing the value of inner, the end=\"\" ensures we don't immediately go to a new line\n",
    "        print(str(inner), end='')\n",
    "        \n",
    "        # then we increase the counter for the inner loop\n",
    "        inner += 1\n",
    "        \n",
    "    # after the inner loop finishes running, we go to a new line\n",
    "    print('')\n",
    "    \n",
    "    # here we increase the counter for the ouuter loop\n",
    "    outer += 1"
   ]
  },
  {
   "cell_type": "markdown",
   "metadata": {},
   "source": [
    "Sometimes you need to exit a loop before it has completed. There are two ways you can do this. The \"break\" statement exits the loop and brings the interpreter to the next line of code following the contents of the loop. The \"continue\" statement ends the current iteration of the loop, and starts the next iteration."
   ]
  },
  {
   "cell_type": "code",
   "execution_count": null,
   "metadata": {},
   "outputs": [],
   "source": [
    "# Declare a counter variable for the while loop\n",
    "counter = 0\n",
    "\n",
    "# Use a variable called stop, and when the counter reaches this value, stop running the loop\n",
    "stop = 5\n",
    "\n",
    "while counter > 0:\n",
    "    # Note that this loop will run forever unless we break out of it at some point!\n",
    "    print(counter)\n",
    "    \n",
    "    if counter == stop:\n",
    "        break"
   ]
  },
  {
   "cell_type": "code",
   "execution_count": null,
   "metadata": {},
   "outputs": [],
   "source": [
    "for letter in \"everest\":\n",
    "    \n",
    "    # if we encounter the letter e, don't print it - just go to the next iteration of the loop\n",
    "    if letter == \"e\":\n",
    "        continue\n",
    "    \n",
    "    # print all the other letters\n",
    "    print(letter)"
   ]
  },
  {
   "cell_type": "markdown",
   "metadata": {},
   "source": [
    "**ToDo:** Implement the \"21\" game in Python. This is a game between 2 players. Each player alternately adds 1, 2, or 3 to the counter, and the game ends when the counter reaches 21. The player to reach or exceed 21 is the loser."
   ]
  },
  {
   "cell_type": "code",
   "execution_count": null,
   "metadata": {},
   "outputs": [],
   "source": [
    "# Start by creating a counter with value 0\n",
    "counter = 0\n",
    "\n",
    "# And make a list of players, i.e. 1 and 2\n",
    "player_list = [1, 2]\n",
    "\n",
    "# Now make a while loop to track the counter\n",
    "while counter < 21:\n",
    "    # And make a for loop to continuously loop over player 1 and player 2\n",
    "    for player in player_list:\n",
    "        # Enter a value from the player, between 1 and 3\n",
    "        choice = int(input(f\"Player {player} enter a number between 1 and 3: \"))\n",
    "        \n",
    "        \n",
    "        # Add this to the counter\n",
    "        counter += choice\n",
    "        \n",
    "        # Print counter value\n",
    "        print(f\"Counter is now {counter}\")\n",
    "        \n",
    "        # Check if the counter has equalled or exceeded 21. In this case, break out of the loop\n",
    "        if counter >= 21:\n",
    "            print(\"Game over!!\")\n",
    "            break\n",
    "            \n",
    "# Print the loser\n",
    "print(f\"Player {player} is the loser!\")"
   ]
  },
  {
   "cell_type": "markdown",
   "metadata": {},
   "source": [
    "And that's it for our first day! Have a look at the exercises and attempt the longer practice problems for homework. You can find them [here](https://github.com/xfer-learn/Python4N00bs/tree/master/Exercises). See you next time!\n",
    "\n",
    "As homework for week 1, complete the problems in this [document](https://github.com/xfer-learn/Python4N00bs/blob/master/Exercises/SharedExercises.pdf)."
   ]
  }
 ],
 "metadata": {
  "kernelspec": {
   "display_name": "Python 3",
   "language": "python",
   "name": "python3"
  },
  "language_info": {
   "codemirror_mode": {
    "name": "ipython",
    "version": 3
   },
   "file_extension": ".py",
   "mimetype": "text/x-python",
   "name": "python",
   "nbconvert_exporter": "python",
   "pygments_lexer": "ipython3",
   "version": "3.6.9"
  }
 },
 "nbformat": 4,
 "nbformat_minor": 2
}
